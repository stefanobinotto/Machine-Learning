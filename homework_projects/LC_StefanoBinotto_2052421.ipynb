{
 "cells": [
  {
   "cell_type": "markdown",
   "metadata": {
    "id": "Ey-PeS_z63cX"
   },
   "source": [
    "# Classification on Wine Dataset\n",
    "\n",
    "## IMPORTANT: make sure to rerun all the code from the beginning to obtain the results for the final version of your notebook, since this is the way we will do it before evaluting your notebook!!!\n",
    "\n",
    "### Dataset description\n",
    "\n",
    "We will be working with a dataset on wines from the UCI machine learning repository\n",
    "(http://archive.ics.uci.edu/ml/datasets/Wine). It contains data for 178 instances. \n",
    "The dataset is the results of a chemical analysis of wines grown in the same region\n",
    "in Italy but derived from three different cultivars. The analysis determined the\n",
    "quantities of 13 constituents found in each of the three types of wines. \n",
    "\n",
    "### The features in the dataset are:\n",
    "\n",
    "- Alcohol\n",
    "- Malic acid\n",
    "- Ash\n",
    "- Alcalinity of ash\n",
    "- Magnesium\n",
    "- Total phenols\n",
    "- Flavanoids\n",
    "- Nonflavanoid phenols\n",
    "- Proanthocyanins\n",
    "- Color intensity\n",
    "- Hue\n",
    "- OD280/OD315 of diluted wines\n",
    "-Proline\n",
    "\n"
   ]
  },
  {
   "cell_type": "markdown",
   "metadata": {
    "id": "zD_cN9kS63ce"
   },
   "source": [
    "We first import all the packages that are needed"
   ]
  },
  {
   "cell_type": "code",
   "execution_count": 1,
   "metadata": {
    "executionInfo": {
     "elapsed": 909,
     "status": "ok",
     "timestamp": 1637609803291,
     "user": {
      "displayName": "Stefano Binotto",
      "photoUrl": "https://lh3.googleusercontent.com/a/default-user=s64",
      "userId": "11957257276296396276"
     },
     "user_tz": -60
    },
    "id": "GW1BKWlb63ce",
    "jupyter": {
     "outputs_hidden": true
    }
   },
   "outputs": [],
   "source": [
    "%matplotlib inline\n",
    "import matplotlib.pyplot as plt\n",
    "\n",
    "\n",
    "import numpy as np\n",
    "import scipy as sp\n",
    "from scipy import stats\n",
    "from sklearn import datasets\n",
    "from sklearn import linear_model"
   ]
  },
  {
   "cell_type": "markdown",
   "metadata": {
    "id": "JKVMDws363cf"
   },
   "source": [
    "# Perceptron\n",
    "We will implement the perceptron and use it to learn a halfspace with 0-1 loss."
   ]
  },
  {
   "cell_type": "markdown",
   "metadata": {
    "id": "fu86DwH-63cg"
   },
   "source": [
    "**TO DO** Set the random seed to your ID (matricola)."
   ]
  },
  {
   "cell_type": "code",
   "execution_count": 2,
   "metadata": {
    "executionInfo": {
     "elapsed": 8,
     "status": "ok",
     "timestamp": 1637609803689,
     "user": {
      "displayName": "Stefano Binotto",
      "photoUrl": "https://lh3.googleusercontent.com/a/default-user=s64",
      "userId": "11957257276296396276"
     },
     "user_tz": -60
    },
    "id": "GhPp265Z63cg",
    "jupyter": {
     "outputs_hidden": true
    }
   },
   "outputs": [],
   "source": [
    "IDnumber = 2052421\n",
    "np.random.seed(IDnumber)"
   ]
  },
  {
   "cell_type": "markdown",
   "metadata": {
    "id": "n2IGYnPm63ch"
   },
   "source": [
    "Load the dataset from scikit learn and then split in training set and test set (50%-50%) after applying a random permutation to the datset."
   ]
  },
  {
   "cell_type": "code",
   "execution_count": 3,
   "metadata": {
    "executionInfo": {
     "elapsed": 8,
     "status": "ok",
     "timestamp": 1637609803690,
     "user": {
      "displayName": "Stefano Binotto",
      "photoUrl": "https://lh3.googleusercontent.com/a/default-user=s64",
      "userId": "11957257276296396276"
     },
     "user_tz": -60
    },
    "id": "eWfB-9oi63ch",
    "jupyter": {
     "outputs_hidden": true
    }
   },
   "outputs": [],
   "source": [
    "# Load the dataset from scikit learn\n",
    "wine = datasets.load_wine()\n",
    "\n",
    "m = wine.data.shape[0]\n",
    "permutation = np.random.permutation(m)\n",
    "\n",
    "X = wine.data[permutation]\n",
    "Y = wine.target[permutation]"
   ]
  },
  {
   "cell_type": "markdown",
   "metadata": {
    "id": "OYu-21Y563ci"
   },
   "source": [
    "We are going to classify class \"1\" vs the other two classes (0 and 2). We are going to relabel the other classes (0 and 2) as \"-1\" so that we can use it directly with the perceptron."
   ]
  },
  {
   "cell_type": "code",
   "execution_count": 4,
   "metadata": {
    "executionInfo": {
     "elapsed": 7,
     "status": "ok",
     "timestamp": 1637609803690,
     "user": {
      "displayName": "Stefano Binotto",
      "photoUrl": "https://lh3.googleusercontent.com/a/default-user=s64",
      "userId": "11957257276296396276"
     },
     "user_tz": -60
    },
    "id": "CIDo6gF663ci",
    "jupyter": {
     "outputs_hidden": true
    }
   },
   "outputs": [],
   "source": [
    "#let's relabel classes 0 and 2 as -1\n",
    "\n",
    "for i in range(len(Y)):\n",
    "    if Y[i] != 1:\n",
    "        Y[i] = -1"
   ]
  },
  {
   "cell_type": "markdown",
   "metadata": {
    "id": "6O5nfTmN63ci"
   },
   "source": [
    "**TO DO** Divide the data into training set and test set (50% of the data each). **Note**: we do not normalize the features since it is not needed for this dataset and task."
   ]
  },
  {
   "cell_type": "code",
   "execution_count": 5,
   "metadata": {
    "colab": {
     "base_uri": "https://localhost:8080/"
    },
    "executionInfo": {
     "elapsed": 7,
     "status": "ok",
     "timestamp": 1637609803690,
     "user": {
      "displayName": "Stefano Binotto",
      "photoUrl": "https://lh3.googleusercontent.com/a/default-user=s64",
      "userId": "11957257276296396276"
     },
     "user_tz": -60
    },
    "id": "i-PUocqQ63cj",
    "jupyter": {
     "outputs_hidden": true
    },
    "outputId": "b69c93ab-d794-4057-9797-3e3dfd6a7615"
   },
   "outputs": [
    {
     "name": "stdout",
     "output_type": "stream",
     "text": [
      "[-1 -1  1 -1  1 -1 -1 -1 -1 -1 -1  1  1  1 -1 -1 -1 -1  1  1 -1  1  1 -1\n",
      "  1 -1 -1  1 -1  1  1 -1  1 -1  1 -1 -1  1 -1 -1 -1  1 -1 -1  1 -1 -1  1\n",
      " -1 -1 -1 -1 -1  1 -1  1  1 -1 -1 -1 -1  1 -1  1 -1  1 -1  1  1 -1  1  1\n",
      "  1 -1  1 -1  1 -1  1 -1 -1 -1 -1 -1 -1 -1 -1 -1 -1]\n"
     ]
    }
   ],
   "source": [
    "#Divide in training and test: make sure that your training set\n",
    "#contains at least 10 elements from class 1 and at least 10 elements\n",
    "#from class -1! If it does not, modify the code so to apply more random\n",
    "#permutations (or the same permutation multiple times) until this happens.\n",
    "\n",
    "#m_training needs to be the number of samples in the training set\n",
    "m_training = int(m/2)   \n",
    "#m_test needs to be the number of samples in the test set\n",
    "m_test = m-m_training   \n",
    "\n",
    "#X_training = instances for training set\n",
    "X_training = X[:m_training,:]  \n",
    "#Y_training = labels for the training set\n",
    "Y_training = Y[:m_training]     \n",
    "\n",
    "#X_test = instances for test set\n",
    "X_test = X[m_test:,:]   \n",
    "#Y_test = labels for the test set\n",
    "Y_test = Y[m_test:]    \n",
    "\n",
    "print(Y_training) #to make sure that Y_training contains both 1 and -1"
   ]
  },
  {
   "cell_type": "markdown",
   "metadata": {
    "id": "mg63p-Dz63ck"
   },
   "source": [
    "**TO DO** Now add a 1 in front of each sample so that we can use a vector to describe all the coefficients of the model. You can use the function $hstack$ in $numpy$"
   ]
  },
  {
   "cell_type": "code",
   "execution_count": 6,
   "metadata": {
    "executionInfo": {
     "elapsed": 799,
     "status": "ok",
     "timestamp": 1637609804485,
     "user": {
      "displayName": "Stefano Binotto",
      "photoUrl": "https://lh3.googleusercontent.com/a/default-user=s64",
      "userId": "11957257276296396276"
     },
     "user_tz": -60
    },
    "id": "52ZjelkS63ck",
    "jupyter": {
     "outputs_hidden": true
    }
   },
   "outputs": [],
   "source": [
    "#add a 1 to each sample\n",
    "X_training = np.hstack((np.ones((m_training,1)),X_training))   \n",
    "X_test = np.hstack((np.ones((m_test,1)),X_test))    "
   ]
  },
  {
   "cell_type": "markdown",
   "metadata": {
    "id": "IB9y2ljp63ck"
   },
   "source": [
    "**TO DO** Now complete the function *perceptron*. Since the perceptron does not terminate if the data is not linearly separable, your implementation should return the desired output (see below) if it reached the termination condition seen in class or if a maximum number of iterations have already been run, where 1 iteration corresponds to 1 update of the perceptron weights. If the perceptron returns because the maximum number of iterations has been reached, you should return an appropriate model. \n",
    "\n",
    "The input parameters to pass are:\n",
    "- $X$: the matrix of input features, one row for each sample\n",
    "- $Y$: the vector of labels for the input features matrix X\n",
    "- $max\\_num\\_iterations$: the maximum number of iterations for running the perceptron\n",
    "\n",
    "The output values are:\n",
    "- $best\\_w$: the vector with the coefficients of the best model\n",
    "- $best\\_error$: the *fraction* of missclassified samples for the best model"
   ]
  },
  {
   "cell_type": "code",
   "execution_count": 7,
   "metadata": {
    "executionInfo": {
     "elapsed": 9,
     "status": "ok",
     "timestamp": 1637609804486,
     "user": {
      "displayName": "Stefano Binotto",
      "photoUrl": "https://lh3.googleusercontent.com/a/default-user=s64",
      "userId": "11957257276296396276"
     },
     "user_tz": -60
    },
    "id": "NtdI7KR_63ck",
    "jupyter": {
     "outputs_hidden": true
    }
   },
   "outputs": [],
   "source": [
    "def perceptron(X, Y, max_num_iterations):\n",
    "    #number of patterns\n",
    "    tot = len(Y)    \n",
    "    #find number of features per pattern\n",
    "    num_features = len(X[0])\n",
    "    #initial settings\n",
    "    best_w = np.zeros(num_features)\n",
    "    #number of missclassified samples in the worst case\n",
    "    best_error = tot\n",
    "    \n",
    "   \n",
    "    #weight initial setting\n",
    "    w = np.zeros(num_features)\n",
    "    \n",
    "    \n",
    "    for i in range(max_num_iterations):\n",
    "        #the termination condition flag\n",
    "        check = False\n",
    "      \n",
    "        #pick randomic instance\n",
    "        for j in np.random.permutation(tot):\n",
    "            #check if yi<w(t),xi> <= 0\n",
    "            if (np.multiply(np.dot(w,X[j]),Y[j]) <= 0):\n",
    "                check = True\n",
    "\n",
    "                #update weights\n",
    "                w = w + (X[j]*Y[j])\n",
    "                \n",
    "                #now test test and find the error for the new weights\n",
    "                err = 0\n",
    "                for f in range(tot):\n",
    "                    if (np.multiply(np.dot(w,X[f]),Y[f]) <= 0):\n",
    "                        err = err + 1\n",
    "\n",
    "                #now check if the current error is the best error\n",
    "                if (err < best_error):\n",
    "                    best_error = err\n",
    "                    best_w = np.copy(w)\n",
    "                #break the for loop in this iteration\n",
    "                break\n",
    "\n",
    "        if (check == False):\n",
    "          best_error = best_error/tot      \n",
    "          return best_w, best_error        \n",
    "                \n",
    "    #find the *fraction* of missclassified samples for the best model\n",
    "    best_error = best_error/tot\n",
    "    #return\n",
    "    return best_w, best_error"
   ]
  },
  {
   "cell_type": "markdown",
   "metadata": {
    "id": "cKyBMF7K63cl"
   },
   "source": [
    "Now we use the implementation above of the perceptron to learn a model from the training data using 100 iterations and print the error of the best model we have found."
   ]
  },
  {
   "cell_type": "code",
   "execution_count": 8,
   "metadata": {
    "colab": {
     "base_uri": "https://localhost:8080/"
    },
    "executionInfo": {
     "elapsed": 9,
     "status": "ok",
     "timestamp": 1637609804486,
     "user": {
      "displayName": "Stefano Binotto",
      "photoUrl": "https://lh3.googleusercontent.com/a/default-user=s64",
      "userId": "11957257276296396276"
     },
     "user_tz": -60
    },
    "id": "Dxhvo-wE63cl",
    "jupyter": {
     "outputs_hidden": true
    },
    "outputId": "043b1203-e429-4275-d56d-67607f2da3cd"
   },
   "outputs": [
    {
     "name": "stdout",
     "output_type": "stream",
     "text": [
      "Training error with 100 iterations: 0.1797752808988764\n"
     ]
    }
   ],
   "source": [
    "#now run the perceptron for 100 iterations\n",
    "w_found, training_error = perceptron(X_training,Y_training, 100)\n",
    "print(\"Training error with 100 iterations: \"+str(training_error))"
   ]
  },
  {
   "cell_type": "markdown",
   "metadata": {
    "id": "yrgHyWKe63cm"
   },
   "source": [
    "**TO DO** use the best model $w\\_found$ to predict the labels for the test dataset and print the fraction of missclassified samples in the test set (that is an estimate of the true loss)."
   ]
  },
  {
   "cell_type": "code",
   "execution_count": 9,
   "metadata": {
    "colab": {
     "base_uri": "https://localhost:8080/"
    },
    "executionInfo": {
     "elapsed": 6,
     "status": "ok",
     "timestamp": 1637609804486,
     "user": {
      "displayName": "Stefano Binotto",
      "photoUrl": "https://lh3.googleusercontent.com/a/default-user=s64",
      "userId": "11957257276296396276"
     },
     "user_tz": -60
    },
    "id": "ISMga5CN63cm",
    "jupyter": {
     "outputs_hidden": true
    },
    "outputId": "ca0aef86-ba88-4717-817d-b840fb5b040c"
   },
   "outputs": [
    {
     "name": "stdout",
     "output_type": "stream",
     "text": [
      "Estimated true loss with 100 iterations:0.29213483146067415\n"
     ]
    }
   ],
   "source": [
    "#now use the w_found to make predictions on test dataset\n",
    "\n",
    "#num_errors = number of errors in the test set\n",
    "num_errors = 0.\n",
    "\n",
    "#repeat the same process as in the cells above\n",
    "for f in range(len(Y_test)):\n",
    "    if (np.multiply(np.dot(w_found,X_test[f]),Y_test[f]) <= 0):\n",
    "        num_errors = num_errors + 1\n",
    "               \n",
    "true_loss_estimate = num_errors/m_test\n",
    "\n",
    "#NOTE: you can avoid using num_errors if you prefer, as long as true_loss_estimate is correct\n",
    "print(\"Estimated true loss with 100 iterations:\"+str(true_loss_estimate))"
   ]
  },
  {
   "cell_type": "markdown",
   "metadata": {
    "id": "NiyfUKvH63cm"
   },
   "source": [
    "**TO DO**: [Answer the following] what relation do you observe between the training error and the (estimated) true loss? Is this what you expected? Explain what you observe and why it does or does not conform to your expectations. [Write the answer in this cell]\n",
    "\n",
    "**ANSWER**: I observe that the estimated true loss is a bit higher than the training error. I expected this kind of outcomes because the first error is the result of the prediction on the training set on which the perceptron trained, while the true loss is the result of a prediction on a completely different set, never inspected before, unrelated to the training set."
   ]
  },
  {
   "cell_type": "markdown",
   "metadata": {
    "id": "TKto4XM763cm"
   },
   "source": [
    "**TO DO** Copy the code from the last 2 cells above in the cell below and repeat the training with 10000 iterations. "
   ]
  },
  {
   "cell_type": "code",
   "execution_count": 10,
   "metadata": {
    "colab": {
     "base_uri": "https://localhost:8080/"
    },
    "executionInfo": {
     "elapsed": 4731,
     "status": "ok",
     "timestamp": 1637609809214,
     "user": {
      "displayName": "Stefano Binotto",
      "photoUrl": "https://lh3.googleusercontent.com/a/default-user=s64",
      "userId": "11957257276296396276"
     },
     "user_tz": -60
    },
    "id": "C_eov_Us63cn",
    "jupyter": {
     "outputs_hidden": true
    },
    "outputId": "1b6a088f-6319-4cc7-a3b7-0c4640bc435d"
   },
   "outputs": [
    {
     "name": "stdout",
     "output_type": "stream",
     "text": [
      "Training error with 10000 iterations: 0.14606741573033707\n",
      "Estimated true loss with 10000 iterations:0.2808988764044944\n"
     ]
    }
   ],
   "source": [
    "#now run the perceptron for 10000 iterations here!\n",
    "w_found, training_error = perceptron(X_training,Y_training, 10000)\n",
    "\n",
    "#training_error = error on the training set\n",
    "print(\"Training error with 10000 iterations: \"+str(training_error))\n",
    "\n",
    "#num_errors = number of errors in the test set\n",
    "num_errors = 0.\n",
    "\n",
    "for f in range(len(Y_test)):\n",
    "    if (np.multiply(np.dot(w_found,X_test[f]),Y_test[f]) <= 0):\n",
    "        num_errors = num_errors + 1\n",
    "        \n",
    "true_loss_estimate = num_errors/m_test\n",
    "\n",
    "#NOTE: you can avoid using num_errors if you prefer, as long as true_loss_estimate is correct\n",
    "print(\"Estimated true loss with 10000 iterations:\"+str(true_loss_estimate))"
   ]
  },
  {
   "cell_type": "markdown",
   "metadata": {
    "id": "wGfztp9U63cn"
   },
   "source": [
    "**TO DO** [Answer the following] What changes in the training error and in the test error (in terms of fraction of missclassified samples)? Explain what you observe. [Write the answer in this cell]\n",
    "\n",
    "**ANSWER** I observe that the true loss decreased a little bit. That is because we gave more iterations to the classifier so it could learn better, generalize better and get a better w. Obviously for the same reason the training error decreased as well."
   ]
  },
  {
   "cell_type": "markdown",
   "metadata": {
    "id": "oALxis7N63co"
   },
   "source": [
    "# Logistic Regression\n",
    "Now we use logistic regression, as implemented in Scikit-learn, to predict labels. We first do it for 2 labels and then for 3 labels. We will also plot the decision region of logistic regression.\n",
    "\n",
    "We first load the dataset again."
   ]
  },
  {
   "cell_type": "code",
   "execution_count": 11,
   "metadata": {
    "executionInfo": {
     "elapsed": 17,
     "status": "ok",
     "timestamp": 1637609809214,
     "user": {
      "displayName": "Stefano Binotto",
      "photoUrl": "https://lh3.googleusercontent.com/a/default-user=s64",
      "userId": "11957257276296396276"
     },
     "user_tz": -60
    },
    "id": "V57B4nQb63co",
    "jupyter": {
     "outputs_hidden": true
    }
   },
   "outputs": [],
   "source": [
    "# Load the dataset from scikit learn\n",
    "wine = datasets.load_wine()\n",
    "\n",
    "m = wine.data.shape[0]\n",
    "permutation = np.random.permutation(m)\n",
    "\n",
    "X = wine.data[permutation]\n",
    "Y = wine.target[permutation]"
   ]
  },
  {
   "cell_type": "markdown",
   "metadata": {
    "id": "P8SQTESt63co"
   },
   "source": [
    "**TO DO** As for the previous part, divide the data into training and test (50%-50%), relabel classes 0 and 2 as -1. Here there is no need to add a 1 at the beginning of each row, since it will be done automatically by the function we will use."
   ]
  },
  {
   "cell_type": "code",
   "execution_count": 12,
   "metadata": {
    "executionInfo": {
     "elapsed": 17,
     "status": "ok",
     "timestamp": 1637609809215,
     "user": {
      "displayName": "Stefano Binotto",
      "photoUrl": "https://lh3.googleusercontent.com/a/default-user=s64",
      "userId": "11957257276296396276"
     },
     "user_tz": -60
    },
    "id": "r9Myxj1x63co",
    "jupyter": {
     "outputs_hidden": true
    }
   },
   "outputs": [],
   "source": [
    "#Divide in training and test: make sure that your training set\n",
    "#contains at least 10 elements from class 1 and at least 10 elements\n",
    "#from class -1! If it does not, modify the code so to apply more random\n",
    "#permutations (or the same permutation multiple times) until this happens.\n",
    "#IMPORTANT: do not change the random seed.\n",
    "\n",
    "m_training = int(m/2)   \n",
    "m_test = m - m_training    \n",
    "\n",
    "#X_training = instances for training set\n",
    "X_training = X[:m_training,:] \n",
    "#Y_training = labels for the training set\n",
    "Y_training = Y[:m_training]  \n",
    "\n",
    "#X_test = instances for test set\n",
    "X_test = X[m_test:,:]  \n",
    "#Y_test = labels for the test set\n",
    "Y_test = Y[m_test:]    \n",
    "\n",
    "#let's relabel classes 0 and 2 as -1\n",
    "\n",
    "for i in range(len(Y)):\n",
    "    if Y[i] != 1:\n",
    "        Y[i] = -1"
   ]
  },
  {
   "cell_type": "markdown",
   "metadata": {
    "id": "PpL9FTXL63cp"
   },
   "source": [
    "To define a logistic regression model in Scikit-learn use the instruction\n",
    "\n",
    "$linear\\_model.LogisticRegression(C=1e5)$\n",
    "\n",
    "($C$ is a parameter related to *regularization*, a technique that\n",
    "we will see later in the course. Setting it to a high value is almost\n",
    "as ignoring regularization, so the instruction above corresponds to the\n",
    "logistic regression you have seen in class.)\n",
    "\n",
    "To learn the model you need to use the $fit(...)$ instruction and to predict you need to use the $predict(...)$ function. See the Scikit-learn documentation for how to use it.\n",
    "\n",
    "**TO DO** Define the logistic regression model, then learn the model using the training set and predict on the test set. Then print the fraction of samples missclassified in the training set and in the test set."
   ]
  },
  {
   "cell_type": "code",
   "execution_count": 13,
   "metadata": {
    "colab": {
     "base_uri": "https://localhost:8080/"
    },
    "executionInfo": {
     "elapsed": 17,
     "status": "ok",
     "timestamp": 1637609809215,
     "user": {
      "displayName": "Stefano Binotto",
      "photoUrl": "https://lh3.googleusercontent.com/a/default-user=s64",
      "userId": "11957257276296396276"
     },
     "user_tz": -60
    },
    "id": "jp8dBRmA63cp",
    "jupyter": {
     "outputs_hidden": true
    },
    "outputId": "40ea8789-97e2-481e-b554-0219aeafc200"
   },
   "outputs": [
    {
     "name": "stdout",
     "output_type": "stream",
     "text": [
      "Error rate on training set: 0.0\n",
      "Error rate on test set: 0.0898876404494382\n"
     ]
    },
    {
     "name": "stderr",
     "output_type": "stream",
     "text": [
      "C:\\Users\\Utente\\anaconda3\\lib\\site-packages\\sklearn\\linear_model\\_logistic.py:763: ConvergenceWarning: lbfgs failed to converge (status=1):\n",
      "STOP: TOTAL NO. of ITERATIONS REACHED LIMIT.\n",
      "\n",
      "Increase the number of iterations (max_iter) or scale the data as shown in:\n",
      "    https://scikit-learn.org/stable/modules/preprocessing.html\n",
      "Please also refer to the documentation for alternative solver options:\n",
      "    https://scikit-learn.org/stable/modules/linear_model.html#logistic-regression\n",
      "  n_iter_i = _check_optimize_result(\n"
     ]
    }
   ],
   "source": [
    "#part on logistic regression for 2 classes\n",
    "logreg = linear_model.LogisticRegression(C=1e5)\n",
    "\n",
    "#learn from training set\n",
    "logreg.fit(X_training, Y_training)\n",
    "\n",
    "#predict on training set\n",
    "labels1 = logreg.predict(X_training)\n",
    "\n",
    "#find the samples missclassified\n",
    "error = 0\n",
    "for i,l in enumerate(labels1):\n",
    "  if l != Y_training[i]:\n",
    "    error += 1\n",
    "\n",
    "error_rate_training = error/len(Y_training)\n",
    "\n",
    "#print the error rate = fraction of missclassified samples\n",
    "print(\"Error rate on training set: \"+str(error_rate_training))\n",
    "\n",
    "error = 0\n",
    "\n",
    "#predict on test set\n",
    "labels2 = logreg.predict(X_test)\n",
    "#find the samples missclassified\n",
    "for i,l in enumerate(labels2):\n",
    "  if l != Y_test[i]:\n",
    "    error += 1\n",
    "\n",
    "error_rate_test = error/len(Y_test)\n",
    "\n",
    "#print the error rate = fraction of missclassified samples\n",
    "\n",
    "print(\"Error rate on test set: \"+str(error_rate_test))"
   ]
  },
  {
   "cell_type": "markdown",
   "metadata": {
    "id": "3ZJHK4f863cp"
   },
   "source": [
    "Now we do logistic regression for classification with 3 classes.\n",
    "\n",
    "**TO DO** First: let's load the data once again (with the same permutation from before)."
   ]
  },
  {
   "cell_type": "code",
   "execution_count": 14,
   "metadata": {
    "executionInfo": {
     "elapsed": 14,
     "status": "ok",
     "timestamp": 1637609809216,
     "user": {
      "displayName": "Stefano Binotto",
      "photoUrl": "https://lh3.googleusercontent.com/a/default-user=s64",
      "userId": "11957257276296396276"
     },
     "user_tz": -60
    },
    "id": "aTwDV4nA63cp",
    "jupyter": {
     "outputs_hidden": true
    }
   },
   "outputs": [],
   "source": [
    "#part on logistic regression for 3 classes\n",
    "\n",
    "#Divide in training and test: make sure that your training set\n",
    "#contains at least 10 elements from each of the 3 classes!\n",
    "#If it does not, modify the code so to apply more random\n",
    "#permutations (or the same permutation multiple times) until this happens.\n",
    "#IMPORTANT: do not change the random seed.\n",
    "X = wine.data[permutation]\n",
    "Y = wine.target[permutation]\n",
    "\n",
    "X_training = X[:m_training,:]\n",
    "Y_training = Y[:m_training] \n",
    "\n",
    "X_test = X[m_test:,:]\n",
    "Y_test = Y[m_test:]"
   ]
  },
  {
   "cell_type": "markdown",
   "metadata": {
    "id": "Eab9i8g063cp"
   },
   "source": [
    "**TO DO** Now perform logistic regression (instructions as before) for 3 classes, learning a model from the training set and predicting on the test set. Print the fraction of missclassified samples on the training set and the fraction of missclassified samples on the test set."
   ]
  },
  {
   "cell_type": "code",
   "execution_count": 15,
   "metadata": {
    "colab": {
     "base_uri": "https://localhost:8080/"
    },
    "executionInfo": {
     "elapsed": 13,
     "status": "ok",
     "timestamp": 1637609809216,
     "user": {
      "displayName": "Stefano Binotto",
      "photoUrl": "https://lh3.googleusercontent.com/a/default-user=s64",
      "userId": "11957257276296396276"
     },
     "user_tz": -60
    },
    "id": "WUysmOaf63cq",
    "jupyter": {
     "outputs_hidden": true
    },
    "outputId": "8f41db00-01db-490e-bd33-20771d1abfcb"
   },
   "outputs": [
    {
     "name": "stdout",
     "output_type": "stream",
     "text": [
      "Error rate on training set: 0.011235955056179775\n",
      "Error rate on test set: 0.07865168539325842\n"
     ]
    },
    {
     "name": "stderr",
     "output_type": "stream",
     "text": [
      "C:\\Users\\Utente\\anaconda3\\lib\\site-packages\\sklearn\\linear_model\\_logistic.py:763: ConvergenceWarning: lbfgs failed to converge (status=1):\n",
      "STOP: TOTAL NO. of ITERATIONS REACHED LIMIT.\n",
      "\n",
      "Increase the number of iterations (max_iter) or scale the data as shown in:\n",
      "    https://scikit-learn.org/stable/modules/preprocessing.html\n",
      "Please also refer to the documentation for alternative solver options:\n",
      "    https://scikit-learn.org/stable/modules/linear_model.html#logistic-regression\n",
      "  n_iter_i = _check_optimize_result(\n"
     ]
    }
   ],
   "source": [
    "#part on logistic regression for 3 classes\n",
    "logreg = linear_model.LogisticRegression(C=1e5)\n",
    "\n",
    "#learn from training set\n",
    "logreg.fit(X_training, Y_training)\n",
    "\n",
    "#predict on training set\n",
    "labels1 = logreg.predict(X_training)\n",
    "\n",
    "#find the samples missclassified\n",
    "error = 0\n",
    "for i,l in enumerate(labels1):\n",
    "  if l != Y_training[i]:\n",
    "    error += 1\n",
    "\n",
    "error_rate_training = error/len(Y_training)\n",
    "\n",
    "\n",
    "#print the error rate = fraction of missclassified samples\n",
    "print(\"Error rate on training set: \"+str(error_rate_training))\n",
    "\n",
    "#predict on test set\n",
    "\n",
    "labels2 = logreg.predict(X_test)\n",
    "#find the samples missclassified\n",
    "for i,l in enumerate(labels2):\n",
    "  if l != Y_test[i]:\n",
    "    error += 1\n",
    "\n",
    "error_rate_test = error/len(Y_test)\n",
    "\n",
    "#print the error rate = fraction of missclassified samples\n",
    "print(\"Error rate on test set: \"+str(error_rate_test))"
   ]
  },
  {
   "cell_type": "markdown",
   "metadata": {
    "id": "_A0Gg-7D63cq"
   },
   "source": [
    "**TO DO** Now pick two features and restrict the dataset to include only two features, whose indices are specified in the $feature$ vector below. Then split into training and test."
   ]
  },
  {
   "cell_type": "code",
   "execution_count": 16,
   "metadata": {
    "executionInfo": {
     "elapsed": 10,
     "status": "ok",
     "timestamp": 1637609809216,
     "user": {
      "displayName": "Stefano Binotto",
      "photoUrl": "https://lh3.googleusercontent.com/a/default-user=s64",
      "userId": "11957257276296396276"
     },
     "user_tz": -60
    },
    "id": "_Z5OXAmh63cq",
    "jupyter": {
     "outputs_hidden": true
    }
   },
   "outputs": [],
   "source": [
    "#to make the plot we need to reduce the data to 2D, so we choose two features\n",
    "\n",
    "features_list = ['Alcohol',\n",
    "'Malic acid',\n",
    "'Ash',\n",
    "'Alcalinity of ash',\n",
    "'Magnesium',\n",
    "'Total phenols',\n",
    "'Flavanoids',\n",
    "'Nonflavanoid phenols',\n",
    "'Proanthocyanins',\n",
    "'Color intensity',\n",
    "'Hue',\n",
    "'OD280/OD315 of diluted wines',\n",
    "'Proline']\n",
    "labels_list = ['class_0', 'class_1', 'class_2']\n",
    "\n",
    "index_feature1 = 4 \n",
    "index_feature2 = 8 \n",
    "features = [index_feature1, index_feature2]\n",
    "\n",
    "feature_name0 = features_list[features[0]]\n",
    "feature_name1 = features_list[features[1]]\n",
    "\n",
    "#X_red is X reduced to include only the 2 features of\n",
    "#indices index_feature1 and index_feature2\n",
    "X_red = X[:,features]\n",
    "\n",
    "X_red_training = X_red[:m_training,:]\n",
    "Y_training = Y[:m_training]\n",
    "\n",
    "X_red_test = X_red[m_test:,:]\n",
    "Y_test = Y[m_test:]"
   ]
  },
  {
   "cell_type": "markdown",
   "metadata": {
    "id": "iBI9HnH063cr"
   },
   "source": [
    "Now learn a model using the training data."
   ]
  },
  {
   "cell_type": "code",
   "execution_count": 17,
   "metadata": {
    "colab": {
     "base_uri": "https://localhost:8080/"
    },
    "executionInfo": {
     "elapsed": 10,
     "status": "ok",
     "timestamp": 1637609809217,
     "user": {
      "displayName": "Stefano Binotto",
      "photoUrl": "https://lh3.googleusercontent.com/a/default-user=s64",
      "userId": "11957257276296396276"
     },
     "user_tz": -60
    },
    "id": "LFgkWkq_63cr",
    "jupyter": {
     "outputs_hidden": true
    },
    "outputId": "dac0649b-e10d-4c32-ee70-21e87608a88a"
   },
   "outputs": [
    {
     "data": {
      "text/plain": [
       "LogisticRegression(C=100000.0)"
      ]
     },
     "execution_count": 17,
     "metadata": {},
     "output_type": "execute_result"
    }
   ],
   "source": [
    "logreg = linear_model.LogisticRegression(C=1e5)\n",
    "\n",
    "logreg.fit(X_red_training, Y_training) "
   ]
  },
  {
   "cell_type": "markdown",
   "metadata": {
    "id": "cBDjFWhU63cr"
   },
   "source": [
    "If everything is ok, the code below uses the model in $logreg$ to plot the decision region for the two features chosen above, with colors denoting the predicted value. It also plots the points (with correct labels) in the training set. It makes a similar plot for the test set."
   ]
  },
  {
   "cell_type": "code",
   "execution_count": 18,
   "metadata": {
    "colab": {
     "base_uri": "https://localhost:8080/",
     "height": 431
    },
    "executionInfo": {
     "elapsed": 1115,
     "status": "ok",
     "timestamp": 1637609810324,
     "user": {
      "displayName": "Stefano Binotto",
      "photoUrl": "https://lh3.googleusercontent.com/a/default-user=s64",
      "userId": "11957257276296396276"
     },
     "user_tz": -60
    },
    "id": "iC6qD3gG63cr",
    "jupyter": {
     "outputs_hidden": true
    },
    "outputId": "8b3a2347-4582-46ab-f04b-fb0dec2fdc9c"
   },
   "outputs": [
    {
     "name": "stderr",
     "output_type": "stream",
     "text": [
      "<ipython-input-18-c23cd41b9b9d>:14: MatplotlibDeprecationWarning: shading='flat' when X and Y have the same dimensions as C is deprecated since 3.3.  Either specify the corners of the quadrilaterals with X and Y, or pass shading='auto', 'nearest' or 'gouraud', or set rcParams['pcolor.shading'].  This will become an error two minor releases later.\n",
      "  plt.pcolormesh(xx, yy, Z, cmap=plt.cm.Paired)\n"
     ]
    },
    {
     "data": {
      "image/png": "[encoded data removed]",
      "text/plain": [
       "<Figure size 288x216 with 1 Axes>"
      ]
     },
     "metadata": {},
     "output_type": "display_data"
    },
    {
     "name": "stderr",
     "output_type": "stream",
     "text": [
      "<ipython-input-18-c23cd41b9b9d>:32: MatplotlibDeprecationWarning: shading='flat' when X and Y have the same dimensions as C is deprecated since 3.3.  Either specify the corners of the quadrilaterals with X and Y, or pass shading='auto', 'nearest' or 'gouraud', or set rcParams['pcolor.shading'].  This will become an error two minor releases later.\n",
      "  plt.pcolormesh(xx, yy, Z, cmap=plt.cm.Paired)\n"
     ]
    },
    {
     "data": {
      "image/png": "[encoded data removed]",
      "text/plain": [
       "<Figure size 288x216 with 1 Axes>"
      ]
     },
     "metadata": {},
     "output_type": "display_data"
    }
   ],
   "source": [
    "# Plot the decision boundary. For that, we will assign a color to each\n",
    "# point in the mesh [x_min, x_max]x[y_min, y_max].\n",
    "h = .02  # step size in the mesh\n",
    "x_min, x_max = X_red[:, 0].min() - .5, X_red[:, 0].max() + .5\n",
    "y_min, y_max = X_red[:, 1].min() - .5, X_red[:, 1].max() + .5\n",
    "xx, yy = np.meshgrid(np.arange(x_min, x_max, h), np.arange(y_min, y_max, h))\n",
    "\n",
    "Z = logreg.predict(np.c_[xx.ravel(), yy.ravel()])\n",
    "\n",
    "# Put the result into a color plot\n",
    "Z = Z.reshape(xx.shape)\n",
    "\n",
    "plt.figure(1, figsize=(4, 3))\n",
    "plt.pcolormesh(xx, yy, Z, cmap=plt.cm.Paired)\n",
    "\n",
    "# Plot also the training points\n",
    "plt.scatter(X_red_training[:, 0], X_red_training[:, 1], c=Y_training, edgecolors='k', cmap=plt.cm.Paired)\n",
    "plt.xlabel(feature_name0)\n",
    "plt.ylabel(feature_name1)\n",
    "\n",
    "plt.xlim(xx.min(), xx.max())\n",
    "plt.ylim(yy.min(), yy.max())\n",
    "plt.xticks(())\n",
    "plt.yticks(())\n",
    "plt.title('Training set')\n",
    "\n",
    "plt.show()\n",
    "\n",
    "# Put the result into a color plot\n",
    "Z = Z.reshape(xx.shape)\n",
    "plt.figure(1, figsize=(4, 3))\n",
    "plt.pcolormesh(xx, yy, Z, cmap=plt.cm.Paired)\n",
    "\n",
    "# Plot also the test points \n",
    "plt.scatter(X_red_test[:, 0], X_red_test[:, 1], c=Y_test, edgecolors='k', cmap=plt.cm.Paired, marker='s')\n",
    "plt.xlabel(feature_name0)\n",
    "plt.ylabel(feature_name1)\n",
    "\n",
    "plt.xlim(xx.min(), xx.max())\n",
    "plt.ylim(yy.min(), yy.max())\n",
    "plt.xticks(())\n",
    "plt.yticks(())\n",
    "plt.title('Test set')\n",
    "\n",
    "plt.show()"
   ]
  },
  {
   "cell_type": "code",
   "execution_count": null,
   "metadata": {
    "executionInfo": {
     "elapsed": 6,
     "status": "ok",
     "timestamp": 1637609810324,
     "user": {
      "displayName": "Stefano Binotto",
      "photoUrl": "https://lh3.googleusercontent.com/a/default-user=s64",
      "userId": "11957257276296396276"
     },
     "user_tz": -60
    },
    "id": "6w_DnObO63cr",
    "jupyter": {
     "outputs_hidden": true
    }
   },
   "outputs": [],
   "source": []
  },
  {
   "cell_type": "code",
   "execution_count": null,
   "metadata": {},
   "outputs": [],
   "source": []
  }
 ],
 "metadata": {
  "anaconda-cloud": {},
  "colab": {
   "collapsed_sections": [
    "Ey-PeS_z63cX"
   ],
   "name": "Classification_wineData.ipynb",
   "provenance": []
  },
  "kernelspec": {
   "display_name": "Python 3",
   "language": "python",
   "name": "python3"
  },
  "language_info": {
   "codemirror_mode": {
    "name": "ipython",
    "version": 3
   },
   "file_extension": ".py",
   "mimetype": "text/x-python",
   "name": "python",
   "nbconvert_exporter": "python",
   "pygments_lexer": "ipython3",
   "version": "3.8.8"
  }
 },
 "nbformat": 4,
 "nbformat_minor": 1
}

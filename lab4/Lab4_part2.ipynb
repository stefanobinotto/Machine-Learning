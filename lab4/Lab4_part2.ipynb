{
  "cells": [
    {
      "cell_type": "markdown",
      "metadata": {
        "id": "pgqFGmF4JgS9"
      },
      "source": [
        "#  Neural Networks: Regression on House Pricing Dataset\n",
        "We consider a reduced version of a dataset containing house sale prices for King County, which includes Seattle. It includes homes sold between May 2014 and May 2015.\n",
        "\n",
        "https://www.kaggle.com/harlfoxem/housesalesprediction\n",
        "\n",
        "For each house we know 18 house features (e.g., number of bedrooms, number of bathrooms, etc.) plus its price, that is what we would like to predict."
      ]
    },
    {
      "cell_type": "code",
      "execution_count": null,
      "metadata": {
        "id": "bYVMGpJiJgTB"
      },
      "outputs": [],
      "source": [
        "#put here your ``numero di matricola''\n",
        "numero_di_matricola = 1 # COMPLETE"
      ]
    },
    {
      "cell_type": "markdown",
      "metadata": {
        "id": "JOoyVCPxJgTC"
      },
      "source": [
        "## Insert your ID number (\"numero di matricola\") below"
      ]
    },
    {
      "cell_type": "code",
      "execution_count": null,
      "metadata": {
        "id": "kwx5MoK4JgTD"
      },
      "outputs": [],
      "source": [
        "#put here your ``numero di matricola''\n",
        "numero_di_matricola = 1 # COMPLETE"
      ]
    },
    {
      "cell_type": "code",
      "execution_count": null,
      "metadata": {
        "id": "-wprxlL-JgTD"
      },
      "outputs": [],
      "source": [
        "#import all packages needed\n",
        "%matplotlib inline\n",
        "import pandas as pd\n",
        "import numpy as np\n",
        "import matplotlib.pyplot as plt"
      ]
    },
    {
      "cell_type": "markdown",
      "metadata": {
        "id": "5wH6juarJgTE"
      },
      "source": [
        "Load the data, remove data samples/points with missing values (NaN) and take a look at them."
      ]
    },
    {
      "cell_type": "code",
      "execution_count": null,
      "metadata": {
        "id": "f8UK-TFVJgTE",
        "outputId": "40fe14c7-4dac-4c91-e688-da4d06d18d04"
      },
      "outputs": [
        {
          "data": {
            "text/html": [
              "<div>\n",
              "<style scoped>\n",
              "    .dataframe tbody tr th:only-of-type {\n",
              "        vertical-align: middle;\n",
              "    }\n",
              "\n",
              "    .dataframe tbody tr th {\n",
              "        vertical-align: top;\n",
              "    }\n",
              "\n",
              "    .dataframe thead th {\n",
              "        text-align: right;\n",
              "    }\n",
              "</style>\n",
              "<table border=\"1\" class=\"dataframe\">\n",
              "  <thead>\n",
              "    <tr style=\"text-align: right;\">\n",
              "      <th></th>\n",
              "      <th>id</th>\n",
              "      <th>price</th>\n",
              "      <th>bedrooms</th>\n",
              "      <th>bathrooms</th>\n",
              "      <th>sqft_living</th>\n",
              "      <th>sqft_lot</th>\n",
              "      <th>floors</th>\n",
              "      <th>waterfront</th>\n",
              "      <th>view</th>\n",
              "      <th>condition</th>\n",
              "      <th>grade</th>\n",
              "      <th>sqft_above</th>\n",
              "      <th>sqft_basement</th>\n",
              "      <th>yr_built</th>\n",
              "      <th>yr_renovated</th>\n",
              "      <th>zipcode</th>\n",
              "      <th>lat</th>\n",
              "      <th>long</th>\n",
              "      <th>sqft_living15</th>\n",
              "      <th>sqft_lot15</th>\n",
              "    </tr>\n",
              "  </thead>\n",
              "  <tbody>\n",
              "    <tr>\n",
              "      <th>count</th>\n",
              "      <td>3.164000e+03</td>\n",
              "      <td>3.164000e+03</td>\n",
              "      <td>3164.000000</td>\n",
              "      <td>3164.000000</td>\n",
              "      <td>3164.000000</td>\n",
              "      <td>3.164000e+03</td>\n",
              "      <td>3164.000000</td>\n",
              "      <td>3164.000000</td>\n",
              "      <td>3164.000000</td>\n",
              "      <td>3164.000000</td>\n",
              "      <td>3164.000000</td>\n",
              "      <td>3164.000000</td>\n",
              "      <td>3164.000000</td>\n",
              "      <td>3164.000000</td>\n",
              "      <td>3164.000000</td>\n",
              "      <td>3164.000000</td>\n",
              "      <td>3164.000000</td>\n",
              "      <td>3164.000000</td>\n",
              "      <td>3164.000000</td>\n",
              "      <td>3164.000000</td>\n",
              "    </tr>\n",
              "    <tr>\n",
              "      <th>mean</th>\n",
              "      <td>4.645240e+09</td>\n",
              "      <td>5.354358e+05</td>\n",
              "      <td>3.381163</td>\n",
              "      <td>2.071903</td>\n",
              "      <td>2070.027813</td>\n",
              "      <td>1.525054e+04</td>\n",
              "      <td>1.434893</td>\n",
              "      <td>0.009798</td>\n",
              "      <td>0.244311</td>\n",
              "      <td>3.459229</td>\n",
              "      <td>7.615676</td>\n",
              "      <td>1761.252212</td>\n",
              "      <td>308.775601</td>\n",
              "      <td>1967.489254</td>\n",
              "      <td>94.668774</td>\n",
              "      <td>98077.125158</td>\n",
              "      <td>47.557868</td>\n",
              "      <td>-122.212337</td>\n",
              "      <td>1982.544564</td>\n",
              "      <td>13176.302465</td>\n",
              "    </tr>\n",
              "    <tr>\n",
              "      <th>std</th>\n",
              "      <td>2.854203e+09</td>\n",
              "      <td>3.809004e+05</td>\n",
              "      <td>0.895472</td>\n",
              "      <td>0.768212</td>\n",
              "      <td>920.251879</td>\n",
              "      <td>4.254457e+04</td>\n",
              "      <td>0.507792</td>\n",
              "      <td>0.098513</td>\n",
              "      <td>0.776298</td>\n",
              "      <td>0.682592</td>\n",
              "      <td>1.166324</td>\n",
              "      <td>815.934864</td>\n",
              "      <td>458.977904</td>\n",
              "      <td>28.095275</td>\n",
              "      <td>424.439427</td>\n",
              "      <td>54.172937</td>\n",
              "      <td>0.140789</td>\n",
              "      <td>0.139577</td>\n",
              "      <td>686.256670</td>\n",
              "      <td>25413.180755</td>\n",
              "    </tr>\n",
              "    <tr>\n",
              "      <th>min</th>\n",
              "      <td>1.000102e+06</td>\n",
              "      <td>7.500000e+04</td>\n",
              "      <td>0.000000</td>\n",
              "      <td>0.000000</td>\n",
              "      <td>380.000000</td>\n",
              "      <td>6.490000e+02</td>\n",
              "      <td>1.000000</td>\n",
              "      <td>0.000000</td>\n",
              "      <td>0.000000</td>\n",
              "      <td>1.000000</td>\n",
              "      <td>3.000000</td>\n",
              "      <td>380.000000</td>\n",
              "      <td>0.000000</td>\n",
              "      <td>1900.000000</td>\n",
              "      <td>0.000000</td>\n",
              "      <td>98001.000000</td>\n",
              "      <td>47.177500</td>\n",
              "      <td>-122.514000</td>\n",
              "      <td>620.000000</td>\n",
              "      <td>660.000000</td>\n",
              "    </tr>\n",
              "    <tr>\n",
              "      <th>25%</th>\n",
              "      <td>2.199775e+09</td>\n",
              "      <td>3.150000e+05</td>\n",
              "      <td>3.000000</td>\n",
              "      <td>1.500000</td>\n",
              "      <td>1430.000000</td>\n",
              "      <td>5.453750e+03</td>\n",
              "      <td>1.000000</td>\n",
              "      <td>0.000000</td>\n",
              "      <td>0.000000</td>\n",
              "      <td>3.000000</td>\n",
              "      <td>7.000000</td>\n",
              "      <td>1190.000000</td>\n",
              "      <td>0.000000</td>\n",
              "      <td>1950.000000</td>\n",
              "      <td>0.000000</td>\n",
              "      <td>98032.000000</td>\n",
              "      <td>47.459575</td>\n",
              "      <td>-122.324250</td>\n",
              "      <td>1480.000000</td>\n",
              "      <td>5429.500000</td>\n",
              "    </tr>\n",
              "    <tr>\n",
              "      <th>50%</th>\n",
              "      <td>4.027701e+09</td>\n",
              "      <td>4.450000e+05</td>\n",
              "      <td>3.000000</td>\n",
              "      <td>2.000000</td>\n",
              "      <td>1910.000000</td>\n",
              "      <td>8.000000e+03</td>\n",
              "      <td>1.000000</td>\n",
              "      <td>0.000000</td>\n",
              "      <td>0.000000</td>\n",
              "      <td>3.000000</td>\n",
              "      <td>7.000000</td>\n",
              "      <td>1545.000000</td>\n",
              "      <td>0.000000</td>\n",
              "      <td>1969.000000</td>\n",
              "      <td>0.000000</td>\n",
              "      <td>98059.000000</td>\n",
              "      <td>47.572500</td>\n",
              "      <td>-122.226000</td>\n",
              "      <td>1830.000000</td>\n",
              "      <td>7873.000000</td>\n",
              "    </tr>\n",
              "    <tr>\n",
              "      <th>75%</th>\n",
              "      <td>7.358175e+09</td>\n",
              "      <td>6.402500e+05</td>\n",
              "      <td>4.000000</td>\n",
              "      <td>2.500000</td>\n",
              "      <td>2500.000000</td>\n",
              "      <td>1.122250e+04</td>\n",
              "      <td>2.000000</td>\n",
              "      <td>0.000000</td>\n",
              "      <td>0.000000</td>\n",
              "      <td>4.000000</td>\n",
              "      <td>8.000000</td>\n",
              "      <td>2150.000000</td>\n",
              "      <td>600.000000</td>\n",
              "      <td>1990.000000</td>\n",
              "      <td>0.000000</td>\n",
              "      <td>98117.000000</td>\n",
              "      <td>47.680250</td>\n",
              "      <td>-122.124000</td>\n",
              "      <td>2360.000000</td>\n",
              "      <td>10408.250000</td>\n",
              "    </tr>\n",
              "    <tr>\n",
              "      <th>max</th>\n",
              "      <td>9.839301e+09</td>\n",
              "      <td>5.350000e+06</td>\n",
              "      <td>8.000000</td>\n",
              "      <td>6.000000</td>\n",
              "      <td>8010.000000</td>\n",
              "      <td>1.651359e+06</td>\n",
              "      <td>3.500000</td>\n",
              "      <td>1.000000</td>\n",
              "      <td>4.000000</td>\n",
              "      <td>5.000000</td>\n",
              "      <td>12.000000</td>\n",
              "      <td>6720.000000</td>\n",
              "      <td>2620.000000</td>\n",
              "      <td>2015.000000</td>\n",
              "      <td>2015.000000</td>\n",
              "      <td>98199.000000</td>\n",
              "      <td>47.777600</td>\n",
              "      <td>-121.315000</td>\n",
              "      <td>5790.000000</td>\n",
              "      <td>425581.000000</td>\n",
              "    </tr>\n",
              "  </tbody>\n",
              "</table>\n",
              "</div>"
            ],
            "text/plain": [
              "                 id         price     bedrooms    bathrooms  sqft_living  \\\n",
              "count  3.164000e+03  3.164000e+03  3164.000000  3164.000000  3164.000000   \n",
              "mean   4.645240e+09  5.354358e+05     3.381163     2.071903  2070.027813   \n",
              "std    2.854203e+09  3.809004e+05     0.895472     0.768212   920.251879   \n",
              "min    1.000102e+06  7.500000e+04     0.000000     0.000000   380.000000   \n",
              "25%    2.199775e+09  3.150000e+05     3.000000     1.500000  1430.000000   \n",
              "50%    4.027701e+09  4.450000e+05     3.000000     2.000000  1910.000000   \n",
              "75%    7.358175e+09  6.402500e+05     4.000000     2.500000  2500.000000   \n",
              "max    9.839301e+09  5.350000e+06     8.000000     6.000000  8010.000000   \n",
              "\n",
              "           sqft_lot       floors   waterfront         view    condition  \\\n",
              "count  3.164000e+03  3164.000000  3164.000000  3164.000000  3164.000000   \n",
              "mean   1.525054e+04     1.434893     0.009798     0.244311     3.459229   \n",
              "std    4.254457e+04     0.507792     0.098513     0.776298     0.682592   \n",
              "min    6.490000e+02     1.000000     0.000000     0.000000     1.000000   \n",
              "25%    5.453750e+03     1.000000     0.000000     0.000000     3.000000   \n",
              "50%    8.000000e+03     1.000000     0.000000     0.000000     3.000000   \n",
              "75%    1.122250e+04     2.000000     0.000000     0.000000     4.000000   \n",
              "max    1.651359e+06     3.500000     1.000000     4.000000     5.000000   \n",
              "\n",
              "             grade   sqft_above  sqft_basement     yr_built  yr_renovated  \\\n",
              "count  3164.000000  3164.000000    3164.000000  3164.000000   3164.000000   \n",
              "mean      7.615676  1761.252212     308.775601  1967.489254     94.668774   \n",
              "std       1.166324   815.934864     458.977904    28.095275    424.439427   \n",
              "min       3.000000   380.000000       0.000000  1900.000000      0.000000   \n",
              "25%       7.000000  1190.000000       0.000000  1950.000000      0.000000   \n",
              "50%       7.000000  1545.000000       0.000000  1969.000000      0.000000   \n",
              "75%       8.000000  2150.000000     600.000000  1990.000000      0.000000   \n",
              "max      12.000000  6720.000000    2620.000000  2015.000000   2015.000000   \n",
              "\n",
              "            zipcode          lat         long  sqft_living15     sqft_lot15  \n",
              "count   3164.000000  3164.000000  3164.000000    3164.000000    3164.000000  \n",
              "mean   98077.125158    47.557868  -122.212337    1982.544564   13176.302465  \n",
              "std       54.172937     0.140789     0.139577     686.256670   25413.180755  \n",
              "min    98001.000000    47.177500  -122.514000     620.000000     660.000000  \n",
              "25%    98032.000000    47.459575  -122.324250    1480.000000    5429.500000  \n",
              "50%    98059.000000    47.572500  -122.226000    1830.000000    7873.000000  \n",
              "75%    98117.000000    47.680250  -122.124000    2360.000000   10408.250000  \n",
              "max    98199.000000    47.777600  -121.315000    5790.000000  425581.000000  "
            ]
          },
          "execution_count": 4,
          "metadata": {},
          "output_type": "execute_result"
        }
      ],
      "source": [
        "#load the data\n",
        "df = pd.read_csv('kc_house_data.csv', sep = ',')\n",
        "\n",
        "#remove the data samples with missing values (NaN)\n",
        "df = df.dropna()\n",
        "\n",
        "df.describe()"
      ]
    },
    {
      "cell_type": "markdown",
      "metadata": {
        "id": "4HlhnxoAJgTG"
      },
      "source": [
        "Extract input and output data. We want to predict the price by using features other than id as input."
      ]
    },
    {
      "cell_type": "code",
      "execution_count": null,
      "metadata": {
        "id": "-foo9hj9JgTG",
        "outputId": "b1571f22-6c9b-4772-a3a8-ce66da825ab0"
      },
      "outputs": [
        {
          "name": "stdout",
          "output_type": "stream",
          "text": [
            "Amount of data: 3164\n"
          ]
        }
      ],
      "source": [
        "Data = df.values\n",
        "# m = number of input samples\n",
        "m = Data.shape[0]\n",
        "print(\"Amount of data:\",m)\n",
        "Y = Data[:m,2]\n",
        "X = Data[:m,3:]"
      ]
    },
    {
      "cell_type": "markdown",
      "metadata": {
        "id": "JVBXY72oJgTH"
      },
      "source": [
        "## Data Pre-Processing\n",
        "\n",
        "We split the data into 3 parts: one will be used for training and choosing the parameters, one for choosing among different models, and one for testing. The part for training and choosing the parameters will consist of $2/3$ of all samples, the one for choosing among different models will consist of $1/6$ of all samples, while the other part consists of the remaining $1/6$-th of all samples."
      ]
    },
    {
      "cell_type": "code",
      "execution_count": null,
      "metadata": {
        "id": "LzqBv6_1JgTH",
        "outputId": "7fabdafe-7d15-4fce-8bab-127acd693ed0"
      },
      "outputs": [
        {
          "name": "stdout",
          "output_type": "stream",
          "text": [
            "Amount of data for training and deciding parameters: 2109\n",
            "Amount of data for validation (choosing among different models): 527\n",
            "Amount of data for test: 528\n"
          ]
        }
      ],
      "source": [
        "# Split data into train (2/3 of samples), validation (1/6 of samples), and test data (the rest)\n",
        "m_train = int(2./3.*m)\n",
        "m_val = int((m-m_train)/2.)\n",
        "m_test = m - m_train - m_val\n",
        "print(\"Amount of data for training and deciding parameters:\",m_train)\n",
        "print(\"Amount of data for validation (choosing among different models):\",m_val)\n",
        "print(\"Amount of data for test:\",m_test)\n",
        "from sklearn.model_selection import train_test_split\n",
        "\n",
        "Xtrain_and_val, Xtest, Ytrain_and_val, Ytest = train_test_split(X, Y, test_size=m_test/m, random_state=numero_di_matricola)\n",
        "Xtrain, Xval, Ytrain, Yval = train_test_split(Xtrain_and_val, Ytrain_and_val, test_size=m_val/(m_train+m_val), random_state=numero_di_matricola)"
      ]
    },
    {
      "cell_type": "markdown",
      "metadata": {
        "id": "ecxA__qqJgTI"
      },
      "source": [
        "Let's standardize the data."
      ]
    },
    {
      "cell_type": "code",
      "execution_count": null,
      "metadata": {
        "id": "a4Vp03XWJgTI"
      },
      "outputs": [],
      "source": [
        "# Data pre-processing\n",
        "from sklearn import preprocessing\n",
        "scaler = preprocessing.StandardScaler().fit(Xtrain)\n",
        "Xtrain_scaled = scaler.transform(Xtrain)\n",
        "Xtrain_and_val_scaled = scaler.transform(Xtrain_and_val)\n",
        "Xval_scaled = scaler.transform(Xval)\n",
        "Xtest_scaled = scaler.transform(Xtest)"
      ]
    },
    {
      "cell_type": "markdown",
      "metadata": {
        "id": "VV4oUtOEJgTJ"
      },
      "source": [
        "## Neural Networks\n",
        "Let's start by learning a simple neural network with 1 hidden node.\n",
        "Note: we are going to use the input parameter solver='lbfgs' and random_state=numero_di_matricola to fix the random seed (so results are reproducible)."
      ]
    },
    {
      "cell_type": "code",
      "execution_count": null,
      "metadata": {
        "id": "r7M1BBchJgTJ",
        "outputId": "083a791b-4b69-4b26-8bb0-e40cd2598d1b"
      },
      "outputs": [
        {
          "name": "stdout",
          "output_type": "stream",
          "text": [
            "0.2639479253417457\n",
            "0.30403685196514796\n",
            "[array([[-213.32710074],\n",
            "       [ 267.74308829],\n",
            "       [ 520.9161202 ],\n",
            "       [ -60.32534191],\n",
            "       [   4.05927076],\n",
            "       [ 707.00232121],\n",
            "       [ 292.91931382],\n",
            "       [ 135.7958694 ],\n",
            "       [ 811.60932712],\n",
            "       [ 490.45537523],\n",
            "       [ 162.78453019],\n",
            "       [-578.83804667],\n",
            "       [  37.89891411],\n",
            "       [-202.21239746],\n",
            "       [ 596.83587404],\n",
            "       [-141.33429569],\n",
            "       [ 146.16707317],\n",
            "       [ -26.73115152]]), array([[141.90559471]])]\n",
            "[array([3773.45441811]), array([-26.37667981])]\n"
          ]
        }
      ],
      "source": [
        "#let's load the MLPRegressor\n",
        "from sklearn.neural_network import MLPRegressor\n",
        "\n",
        "#let's define the model\n",
        "#COMPLETE\n",
        "NN = MLPRegressor(hidden_layer_sizes=(1,),solver=\"lbfgs\",random_state=numero_di_matricola)\n",
        "\n",
        "#let's learn the model on training data\n",
        "#COMPLETE\n",
        "NN.fit(Xtrain_scaled,Ytrain)\n",
        "\n",
        "#let's print the error (1 - R^2) on training data\n",
        "#COMPLETE\n",
        "print(1-NN.score(Xtrain_scaled,Ytrain))\n",
        "\n",
        "#let's print the error (1 - R^2) on validation data\n",
        "#COMPLETE\n",
        "print(1-NN.score(Xval_scaled,Yval))\n",
        "\n",
        "#let's print the coefficients of the model for the input nodes (but not the bias)\n",
        "#COMPLETE\n",
        "print(NN.coefs_)\n",
        "\n",
        "#let's print the coefficient for the bias (i.e., the bias)\n",
        "#COMPLETE\n",
        "print(NN.intercepts_)"
      ]
    },
    {
      "cell_type": "markdown",
      "metadata": {
        "id": "_fpZgVnmJgTJ"
      },
      "source": [
        "## Neural Networks vs Linear Models\n",
        "\n",
        "Let's learn a linear model on the other same data and compare the results with the simple NN above."
      ]
    },
    {
      "cell_type": "code",
      "execution_count": null,
      "metadata": {
        "id": "eNuKfLdoJgTK",
        "outputId": "85cc3a94-a295-482a-d24a-099e2e100f63"
      },
      "outputs": [
        {
          "name": "stdout",
          "output_type": "stream",
          "text": [
            "0.2653859924353308\n",
            "0.31176613563743305\n",
            "[-2.83881255e+04  3.46039033e+04  1.81896850e+18 -8.54378107e+03\n",
            " -6.05860287e+02  1.00433288e+05  4.20282698e+04  2.01823963e+04\n",
            "  1.09874269e+05 -1.63501936e+18 -9.00806992e+17 -7.80771471e+04\n",
            "  6.56033131e+03 -2.73989648e+04  8.35250951e+04 -2.13083018e+04\n",
            "  2.27525614e+04 -2.25897712e+03]\n",
            "536740.1865575869\n"
          ]
        }
      ],
      "source": [
        "#COMPLETE\n",
        "from sklearn import linear_model\n",
        "\n",
        "LR = linear_model.LinearRegression()\n",
        "\n",
        "LR.fit(Xtrain_scaled,Ytrain)\n",
        "\n",
        "print(1-LR.score(Xtrain_scaled,Ytrain))\n",
        "print(1-LR.score(Xval_scaled,Yval))\n",
        "\n",
        "print(LR.coef_)\n",
        "print(LR.intercept_)"
      ]
    },
    {
      "cell_type": "markdown",
      "metadata": {
        "id": "agseGq4SJgTK"
      },
      "source": [
        "Is there a way to make a NN network learn a linear model?\n",
        "\n",
        "Let's first check what is the loss used by MLPRegressor..."
      ]
    },
    {
      "cell_type": "code",
      "execution_count": null,
      "metadata": {
        "id": "KrDLt68LJgTK",
        "outputId": "8b565f90-7598-42a4-fdaa-3052aa90bb7f"
      },
      "outputs": [
        {
          "name": "stdout",
          "output_type": "stream",
          "text": [
            "0.26535942166590454\n",
            "0.3115390658284922\n",
            "[array([[  51.55070235],\n",
            "       [ -59.02846704],\n",
            "       [-122.96939596],\n",
            "       [  13.19466306],\n",
            "       [  -1.10694448],\n",
            "       [-165.016906  ],\n",
            "       [ -68.62491747],\n",
            "       [ -32.12596414],\n",
            "       [-183.34020234],\n",
            "       [-114.96558392],\n",
            "       [ -38.51551396],\n",
            "       [ 128.83877577],\n",
            "       [ -10.76237595],\n",
            "       [  46.43749972],\n",
            "       [-137.83874569],\n",
            "       [  35.64844107],\n",
            "       [ -36.32214078],\n",
            "       [   3.29740834]]), array([[-607.24280969]])]\n",
            "[array([-883.44724722]), array([365.29153421])]\n"
          ]
        }
      ],
      "source": [
        "#let's write the code to learn a linear model with NN: how?\n",
        "\n",
        "#let's load the MLPRegressor\n",
        "from sklearn.neural_network import MLPRegressor\n",
        "\n",
        "#let's define the model\n",
        "#COMPLETE\n",
        "NN = MLPRegressor(hidden_layer_sizes=(1,),solver=\"lbfgs\",random_state=numero_di_matricola,activation=\"identity\")\n",
        "\n",
        "#let's learn the model on training data\n",
        "#COMPLETE\n",
        "NN.fit(Xtrain_scaled,Ytrain)\n",
        "\n",
        "#let's print the error (1 - R^2) on training data\n",
        "#COMPLETE\n",
        "print(1-NN.score(Xtrain_scaled,Ytrain))\n",
        "\n",
        "#let's print the error (1 - R^2) on validation data\n",
        "#COMPLETE\n",
        "print(1-NN.score(Xval_scaled,Yval))\n",
        "\n",
        "#let's print the coefficients of the model for the input nodes (but not the bias)\n",
        "#COMPLETE\n",
        "print(NN.coefs_)\n",
        "\n",
        "#let's print the coefficient for the bias (i.e., the bias)\n",
        "#COMPLETE\n",
        "print(NN.intercepts_)"
      ]
    },
    {
      "cell_type": "markdown",
      "metadata": {
        "id": "nvX0Iw2DJgTL"
      },
      "source": [
        "Note that there is an $\\ell_2$ regularization term in MLPRegressor. What about making it smaller?"
      ]
    },
    {
      "cell_type": "code",
      "execution_count": null,
      "metadata": {
        "id": "d1ez9HNUJgTL"
      },
      "outputs": [],
      "source": [
        "#COMPLETE"
      ]
    },
    {
      "cell_type": "markdown",
      "metadata": {
        "id": "pwIB4vJxJgTL"
      },
      "source": [
        "## More Complex NNs\n",
        "\n",
        "Let's try more complex NN, for example increasing the number of nodes in the only hidden layer, or increasing the number of hidden layers."
      ]
    },
    {
      "cell_type": "markdown",
      "metadata": {
        "id": "erlu9owFJgTM"
      },
      "source": [
        "Let's build a NN with 2 nodes in the only hidden layer"
      ]
    },
    {
      "cell_type": "code",
      "execution_count": null,
      "metadata": {
        "id": "yU1_SiajJgTM",
        "outputId": "03b5318a-4d47-4958-b967-2032873db24d"
      },
      "outputs": [
        {
          "name": "stdout",
          "output_type": "stream",
          "text": [
            "0.18062109906851975\n",
            "0.2072188864064245\n",
            "[array([[  91.0135717 ,  -33.31648469],\n",
            "       [ 120.45601735,   39.31363437],\n",
            "       [  85.74123108,   73.03537278],\n",
            "       [-261.27351073,   28.30942803],\n",
            "       [ -30.57377112,   17.91716977],\n",
            "       [ 198.30951336,   25.30846506],\n",
            "       [  34.87362728,   37.57703322],\n",
            "       [  96.99039338,   25.69137306],\n",
            "       [ 312.37605943,  132.89249257],\n",
            "       [  85.00062032,   68.81506248],\n",
            "       [  19.24883267,   23.38873098],\n",
            "       [-217.42645617,  -81.21696339],\n",
            "       [  -3.48529316,   20.11216403],\n",
            "       [-301.2638864 ,  -26.39629252],\n",
            "       [ 305.55023365,  144.59950929],\n",
            "       [-463.83631129,  -16.406266  ],\n",
            "       [ 194.59591574,   52.89555635],\n",
            "       [-250.92315846,  -11.166943  ]]), array([[614.54319227],\n",
            "       [548.81462018]])]\n"
          ]
        },
        {
          "ename": "AttributeError",
          "evalue": "'MLPRegressor' object has no attribute 'intercepts'",
          "output_type": "error",
          "traceback": [
            "\u001b[1;31m---------------------------------------------------------------------------\u001b[0m",
            "\u001b[1;31mAttributeError\u001b[0m                            Traceback (most recent call last)",
            "\u001b[1;32m<ipython-input-12-cf3cce60a53c>\u001b[0m in \u001b[0;36m<module>\u001b[1;34m\u001b[0m\n\u001b[0;32m     26\u001b[0m \u001b[1;31m#let's print the coefficient for the bias (i.e., the bias)\u001b[0m\u001b[1;33m\u001b[0m\u001b[1;33m\u001b[0m\u001b[1;33m\u001b[0m\u001b[0m\n\u001b[0;32m     27\u001b[0m \u001b[1;31m#COMPLETE\u001b[0m\u001b[1;33m\u001b[0m\u001b[1;33m\u001b[0m\u001b[1;33m\u001b[0m\u001b[0m\n\u001b[1;32m---> 28\u001b[1;33m \u001b[0mprint\u001b[0m\u001b[1;33m(\u001b[0m\u001b[0mNN\u001b[0m\u001b[1;33m.\u001b[0m\u001b[0mintercepts\u001b[0m\u001b[1;33m)\u001b[0m\u001b[1;33m\u001b[0m\u001b[1;33m\u001b[0m\u001b[0m\n\u001b[0m",
            "\u001b[1;31mAttributeError\u001b[0m: 'MLPRegressor' object has no attribute 'intercepts'"
          ]
        }
      ],
      "source": [
        "#let's build a NN with 2 nodes in the only hidden layer\n",
        "\n",
        "#let's load the MLPRegressor\n",
        "from sklearn.neural_network import MLPRegressor\n",
        "\n",
        "#let's define the model\n",
        "#COMPLETE\n",
        "NN = MLPRegressor(hidden_layer_sizes=(2,),solver=\"lbfgs\",random_state=numero_di_matricola)\n",
        "\n",
        "#let's learn the model on training data\n",
        "#COMPLETE\n",
        "NN.fit(Xtrain_scaled,Ytrain)\n",
        "\n",
        "#let's print the error (1 - R^2) on training data\n",
        "#COMPLETE\n",
        "print(1-NN.score(Xtrain_scaled,Ytrain))\n",
        "\n",
        "#let's print the error (1 - R^2) on validation data\n",
        "#COMPLETE\n",
        "print(1-NN.score(Xval_scaled,Yval))\n",
        "\n",
        "#let's print the coefficients of the model for the input nodes (but not the bias)\n",
        "#COMPLETE\n",
        "print(NN.coefs_)\n",
        "\n",
        "#let's print the coefficient for the bias (i.e., the bias)\n",
        "#COMPLETE\n",
        "print(NN.intercepts)"
      ]
    },
    {
      "cell_type": "markdown",
      "metadata": {
        "id": "6An34tSVJgTM"
      },
      "source": [
        "Let's build a NN with 5 nodes in the only hidden layer"
      ]
    },
    {
      "cell_type": "code",
      "execution_count": null,
      "metadata": {
        "id": "Rn5v_dEHJgTM"
      },
      "outputs": [],
      "source": [
        "#let's build a NN with 5 nodes in the only hidden layer\n",
        "\n",
        "#let's load the MLPRegressor\n",
        "from sklearn.neural_network import MLPRegressor\n",
        "\n",
        "#let's define the model\n",
        "#COMPLETE\n",
        "NN = MLPRegressor(hidden_layer_sizes=(5,),solver=\"lbfgs\",random_state=numero_di_matricola)\n",
        "\n",
        "#let's learn the model on training data\n",
        "#COMPLETE\n",
        "NN.fit(Xtrain_scaled,Ytrain)\n",
        "\n",
        "#let's print the error (1 - R^2) on training data\n",
        "#COMPLETE\n",
        "print(1-NN.score(Xtrain_scaled,Ytrain))\n",
        "\n",
        "#let's print the error (1 - R^2) on validation data\n",
        "#COMPLETE\n",
        "print(1-NN.score(Xval_scaled,Yval))\n",
        "\n",
        "#let's print the coefficients of the model for the input nodes (but not the bias)\n",
        "#COMPLETE\n",
        "print(NN.coefs_)\n",
        "\n",
        "#let's print the coefficient for the bias (i.e., the bias)\n",
        "#COMPLETE\n",
        "print(NN.intercepts)"
      ]
    },
    {
      "cell_type": "markdown",
      "metadata": {
        "id": "zaX57S81JgTN"
      },
      "source": [
        "Note that with a smaller number of iterations we had a larger error on training set but a smaller error on validation data -> \"early stopping is a form of regularization\""
      ]
    },
    {
      "cell_type": "markdown",
      "metadata": {
        "id": "ihhRRwkZJgTN"
      },
      "source": [
        "Let's build a NN with 10 nodes in the only hidden layer"
      ]
    },
    {
      "cell_type": "code",
      "execution_count": null,
      "metadata": {
        "id": "ebgFya29JgTN",
        "outputId": "e7d6f419-a18d-462a-a84d-64a42831f517"
      },
      "outputs": [
        {
          "name": "stdout",
          "output_type": "stream",
          "text": [
            "0.12218155069751013\n",
            "0.3077493637921128\n"
          ]
        },
        {
          "name": "stderr",
          "output_type": "stream",
          "text": [
            "C:\\Users\\USER\\anaconda3\\lib\\site-packages\\sklearn\\neural_network\\_multilayer_perceptron.py:500: ConvergenceWarning: lbfgs failed to converge (status=1):\n",
            "STOP: TOTAL NO. of ITERATIONS REACHED LIMIT.\n",
            "\n",
            "Increase the number of iterations (max_iter) or scale the data as shown in:\n",
            "    https://scikit-learn.org/stable/modules/preprocessing.html\n",
            "  self.n_iter_ = _check_optimize_result(\"lbfgs\", opt_res, self.max_iter)\n"
          ]
        }
      ],
      "source": [
        "#let's build a NN with 10 nodes in the only hidden layer\n",
        "\n",
        "#let's load the MLPRegressor\n",
        "from sklearn.neural_network import MLPRegressor\n",
        "\n",
        "#let's define the model\n",
        "#COMPLETE\n",
        "NN = MLPRegressor(hidden_layer_sizes=(10,),solver=\"lbfgs\",random_state=numero_di_matricola)\n",
        "\n",
        "#let's learn the model on training data\n",
        "#COMPLETE\n",
        "NN.fit(Xtrain_scaled,Ytrain)\n",
        "\n",
        "#let's print the error (1 - R^2) on training data\n",
        "#COMPLETE\n",
        "print(1-NN.score(Xtrain_scaled,Ytrain))\n",
        "\n",
        "#let's print the error (1 - R^2) on validation data\n",
        "#COMPLETE\n",
        "print(1-NN.score(Xval_scaled,Yval))\n",
        "\n",
        "#let's print the coefficients of the model for the input nodes (but not the bias)\n",
        "#COMPLETE\n",
        "#print(NN.coefs_)\n",
        "\n",
        "#let's print the coefficient for the bias (i.e., the bias)\n",
        "#COMPLETE\n",
        "#print(NN.intercepts)"
      ]
    },
    {
      "cell_type": "markdown",
      "metadata": {
        "id": "1iIkchwvJgTO"
      },
      "source": [
        "Let's build a NN with 100 nodes in the only hidden layer. Note that this is the default!"
      ]
    },
    {
      "cell_type": "code",
      "execution_count": null,
      "metadata": {
        "id": "dWxqz-tAJgTO",
        "outputId": "bb09f929-97b4-4f97-c6a3-e51dd1ecad0f"
      },
      "outputs": [
        {
          "name": "stdout",
          "output_type": "stream",
          "text": [
            "0.031062753470383675\n",
            "0.48104846274722646\n"
          ]
        },
        {
          "name": "stderr",
          "output_type": "stream",
          "text": [
            "C:\\Users\\USER\\anaconda3\\lib\\site-packages\\sklearn\\neural_network\\_multilayer_perceptron.py:500: ConvergenceWarning: lbfgs failed to converge (status=1):\n",
            "STOP: TOTAL NO. of ITERATIONS REACHED LIMIT.\n",
            "\n",
            "Increase the number of iterations (max_iter) or scale the data as shown in:\n",
            "    https://scikit-learn.org/stable/modules/preprocessing.html\n",
            "  self.n_iter_ = _check_optimize_result(\"lbfgs\", opt_res, self.max_iter)\n"
          ]
        }
      ],
      "source": [
        "#let's build a NN with 100 nodes in the only hidden layer\n",
        "\n",
        "#let's load the MLPRegressor\n",
        "from sklearn.neural_network import MLPRegressor\n",
        "\n",
        "#let's define the model\n",
        "#COMPLETE\n",
        "NN = MLPRegressor(hidden_layer_sizes=(100,),solver=\"lbfgs\",random_state=numero_di_matricola)\n",
        "\n",
        "#let's learn the model on training data\n",
        "#COMPLETE\n",
        "NN.fit(Xtrain_scaled,Ytrain)\n",
        "\n",
        "#let's print the error (1 - R^2) on training data\n",
        "#COMPLETE\n",
        "print(1-NN.score(Xtrain_scaled,Ytrain))\n",
        "\n",
        "#let's print the error (1 - R^2) on validation data\n",
        "#COMPLETE\n",
        "print(1-NN.score(Xval_scaled,Yval))\n",
        "\n",
        "#let's print the coefficients of the model for the input nodes (but not the bias)\n",
        "#COMPLETE\n",
        "#print(NN.coefs_)\n",
        "\n",
        "#let's print the coefficient for the bias (i.e., the bias)\n",
        "#COMPLETE\n",
        "#print(NN.intercepts)"
      ]
    },
    {
      "cell_type": "markdown",
      "metadata": {
        "id": "tgjufoAtJgTO"
      },
      "source": [
        "Let's try 2 layers, 1 node each"
      ]
    },
    {
      "cell_type": "code",
      "execution_count": null,
      "metadata": {
        "id": "0J84Xe3WJgTP",
        "outputId": "a1763b4a-aeff-4b62-d318-09405047fec6"
      },
      "outputs": [
        {
          "name": "stdout",
          "output_type": "stream",
          "text": [
            "0.24000826164233557\n",
            "0.2730179156052638\n"
          ]
        },
        {
          "name": "stderr",
          "output_type": "stream",
          "text": [
            "C:\\Users\\USER\\anaconda3\\lib\\site-packages\\sklearn\\neural_network\\_multilayer_perceptron.py:500: ConvergenceWarning: lbfgs failed to converge (status=1):\n",
            "STOP: TOTAL NO. of ITERATIONS REACHED LIMIT.\n",
            "\n",
            "Increase the number of iterations (max_iter) or scale the data as shown in:\n",
            "    https://scikit-learn.org/stable/modules/preprocessing.html\n",
            "  self.n_iter_ = _check_optimize_result(\"lbfgs\", opt_res, self.max_iter)\n"
          ]
        }
      ],
      "source": [
        "#let's build a NN with 2 hidden layers, 1 node each\n",
        "\n",
        "#let's load the MLPRegressor\n",
        "from sklearn.neural_network import MLPRegressor\n",
        "\n",
        "#let's define the model\n",
        "#COMPLETE\n",
        "NN = MLPRegressor(hidden_layer_sizes=(1,1,),solver=\"lbfgs\",random_state=numero_di_matricola)\n",
        "\n",
        "#let's learn the model on training data\n",
        "#COMPLETE\n",
        "NN.fit(Xtrain_scaled,Ytrain)\n",
        "\n",
        "#let's print the error (1 - R^2) on training data\n",
        "#COMPLETE\n",
        "print(1-NN.score(Xtrain_scaled,Ytrain))\n",
        "\n",
        "#let's print the error (1 - R^2) on validation data\n",
        "#COMPLETE\n",
        "print(1-NN.score(Xval_scaled,Yval))\n",
        "\n",
        "#let's print the coefficients of the model for the input nodes (but not the bias)\n",
        "#COMPLETE\n",
        "#print(NN.coefs_)\n",
        "\n",
        "#let's print the coefficient for the bias (i.e., the bias)\n",
        "#COMPLETE\n",
        "#print(NN.intercepts)"
      ]
    },
    {
      "cell_type": "markdown",
      "metadata": {
        "id": "69zpItUCJgTP"
      },
      "source": [
        "Let's try 2 layers, 2 nodes each"
      ]
    },
    {
      "cell_type": "code",
      "execution_count": null,
      "metadata": {
        "id": "ApYVqBxGJgTQ",
        "outputId": "6afdf38c-b4df-48f9-84d1-2773544fcd04"
      },
      "outputs": [
        {
          "name": "stdout",
          "output_type": "stream",
          "text": [
            "0.21286091902027926\n",
            "0.26866576815820586\n"
          ]
        },
        {
          "name": "stderr",
          "output_type": "stream",
          "text": [
            "C:\\Users\\USER\\anaconda3\\lib\\site-packages\\sklearn\\neural_network\\_multilayer_perceptron.py:500: ConvergenceWarning: lbfgs failed to converge (status=1):\n",
            "STOP: TOTAL NO. of ITERATIONS REACHED LIMIT.\n",
            "\n",
            "Increase the number of iterations (max_iter) or scale the data as shown in:\n",
            "    https://scikit-learn.org/stable/modules/preprocessing.html\n",
            "  self.n_iter_ = _check_optimize_result(\"lbfgs\", opt_res, self.max_iter)\n"
          ]
        }
      ],
      "source": [
        "#let's build a NN with 2 layers, 2 nodes each\n",
        "\n",
        "#let's load the MLPRegressor\n",
        "from sklearn.neural_network import MLPRegressor\n",
        "\n",
        "#let's define the model\n",
        "#COMPLETE\n",
        "NN = MLPRegressor(hidden_layer_sizes=(2,2,),solver=\"lbfgs\",random_state=numero_di_matricola)\n",
        "\n",
        "#let's learn the model on training data\n",
        "#COMPLETE\n",
        "NN.fit(Xtrain_scaled,Ytrain)\n",
        "\n",
        "#let's print the error (1 - R^2) on training data\n",
        "#COMPLETE\n",
        "print(1-NN.score(Xtrain_scaled,Ytrain))\n",
        "\n",
        "#let's print the error (1 - R^2) on validation data\n",
        "#COMPLETE\n",
        "print(1-NN.score(Xval_scaled,Yval))\n",
        "\n",
        "#let's print the coefficients of the model for the input nodes (but not the bias)\n",
        "#COMPLETE\n",
        "#print(NN.coefs_)\n",
        "\n",
        "#let's print the coefficient for the bias (i.e., the bias)\n",
        "#COMPLETE\n",
        "#print(NN.intercepts)"
      ]
    },
    {
      "cell_type": "markdown",
      "metadata": {
        "id": "dtvMD7G1JgTQ"
      },
      "source": [
        "Let's try 2 layers, 10 nodes each"
      ]
    },
    {
      "cell_type": "code",
      "execution_count": null,
      "metadata": {
        "id": "R0gZ_k2LJgTQ",
        "outputId": "0f6715f8-f282-4d24-b1b8-e60eddb5f562"
      },
      "outputs": [
        {
          "name": "stdout",
          "output_type": "stream",
          "text": [
            "0.07162884599270314\n",
            "0.30154840167981534\n"
          ]
        },
        {
          "name": "stderr",
          "output_type": "stream",
          "text": [
            "C:\\Users\\USER\\anaconda3\\lib\\site-packages\\sklearn\\neural_network\\_multilayer_perceptron.py:500: ConvergenceWarning: lbfgs failed to converge (status=1):\n",
            "STOP: TOTAL NO. of ITERATIONS REACHED LIMIT.\n",
            "\n",
            "Increase the number of iterations (max_iter) or scale the data as shown in:\n",
            "    https://scikit-learn.org/stable/modules/preprocessing.html\n",
            "  self.n_iter_ = _check_optimize_result(\"lbfgs\", opt_res, self.max_iter)\n"
          ]
        }
      ],
      "source": [
        "#let's build a NN with 2 layers, 10 nodes each\n",
        "\n",
        "#let's load the MLPRegressor\n",
        "from sklearn.neural_network import MLPRegressor\n",
        "\n",
        "#let's define the model\n",
        "#COMPLETE\n",
        "NN = MLPRegressor(hidden_layer_sizes=(10,10,),solver=\"lbfgs\",random_state=numero_di_matricola)\n",
        "\n",
        "#let's learn the model on training data\n",
        "#COMPLETE\n",
        "NN.fit(Xtrain_scaled,Ytrain)\n",
        "\n",
        "#let's print the error (1 - R^2) on training data\n",
        "#COMPLETE\n",
        "print(1-NN.score(Xtrain_scaled,Ytrain))\n",
        "\n",
        "#let's print the error (1 - R^2) on validation data\n",
        "#COMPLETE\n",
        "print(1-NN.score(Xval_scaled,Yval))\n",
        "\n",
        "#let's print the coefficients of the model for the input nodes (but not the bias)\n",
        "#COMPLETE\n",
        "#print(NN.coefs_)\n",
        "\n",
        "#let's print the coefficient for the bias (i.e., the bias)\n",
        "#COMPLETE\n",
        "#print(NN.intercepts)"
      ]
    },
    {
      "cell_type": "markdown",
      "metadata": {
        "id": "Gv_k5XZkJgTR"
      },
      "source": [
        "Let's try 2 layers, 100 nodes each"
      ]
    },
    {
      "cell_type": "code",
      "execution_count": null,
      "metadata": {
        "id": "S4k1jJWPJgTR",
        "outputId": "1b0874fe-80f3-40de-ca2a-7dd7f180c887"
      },
      "outputs": [
        {
          "name": "stdout",
          "output_type": "stream",
          "text": [
            "0.02300567407541343\n",
            "0.33637502274767184\n"
          ]
        },
        {
          "name": "stderr",
          "output_type": "stream",
          "text": [
            "C:\\Users\\USER\\anaconda3\\lib\\site-packages\\sklearn\\neural_network\\_multilayer_perceptron.py:500: ConvergenceWarning: lbfgs failed to converge (status=1):\n",
            "STOP: TOTAL NO. of ITERATIONS REACHED LIMIT.\n",
            "\n",
            "Increase the number of iterations (max_iter) or scale the data as shown in:\n",
            "    https://scikit-learn.org/stable/modules/preprocessing.html\n",
            "  self.n_iter_ = _check_optimize_result(\"lbfgs\", opt_res, self.max_iter)\n"
          ]
        }
      ],
      "source": [
        "#let's build a NN with 2 layers, 100 nodes each\n",
        "\n",
        "#let's load the MLPRegressor\n",
        "from sklearn.neural_network import MLPRegressor\n",
        "\n",
        "#let's define the model\n",
        "#COMPLETE\n",
        "NN = MLPRegressor(hidden_layer_sizes=(100,100,),solver=\"lbfgs\",random_state=numero_di_matricola)\n",
        "\n",
        "#let's learn the model on training data\n",
        "#COMPLETE\n",
        "NN.fit(Xtrain_scaled,Ytrain)\n",
        "\n",
        "#let's print the error (1 - R^2) on training data\n",
        "#COMPLETE\n",
        "print(1-NN.score(Xtrain_scaled,Ytrain))\n",
        "\n",
        "#let's print the error (1 - R^2) on validation data\n",
        "#COMPLETE\n",
        "print(1-NN.score(Xval_scaled,Yval))\n",
        "\n",
        "#let's print the coefficients of the model for the input nodes (but not the bias)\n",
        "#COMPLETE\n",
        "#print(NN.coefs_)\n",
        "\n",
        "#let's print the coefficient for the bias (i.e., the bias)\n",
        "#COMPLETE\n",
        "#print(NN.intercepts)"
      ]
    },
    {
      "cell_type": "markdown",
      "metadata": {
        "id": "hBBcrv-rJgTb"
      },
      "source": [
        "So it seems that 1 layer (and default number of iterations) works best for this dataset. Let's try 5-fold cross-validation with number of nodes in the hidden layer between 1 and 20.\n",
        "Note that we use train and validation data together, since we are doing cross-validation."
      ]
    },
    {
      "cell_type": "code",
      "execution_count": null,
      "metadata": {
        "id": "k9iGKQaOJgTb",
        "outputId": "4fde8b60-dcf7-4a95-ac3a-ca66e308b754"
      },
      "outputs": [
        {
          "name": "stderr",
          "output_type": "stream",
          "text": [
            "C:\\Users\\USER\\anaconda3\\lib\\site-packages\\sklearn\\neural_network\\_multilayer_perceptron.py:500: ConvergenceWarning: lbfgs failed to converge (status=1):\n",
            "STOP: TOTAL NO. of ITERATIONS REACHED LIMIT.\n",
            "\n",
            "Increase the number of iterations (max_iter) or scale the data as shown in:\n",
            "    https://scikit-learn.org/stable/modules/preprocessing.html\n",
            "  self.n_iter_ = _check_optimize_result(\"lbfgs\", opt_res, self.max_iter)\n",
            "C:\\Users\\USER\\anaconda3\\lib\\site-packages\\sklearn\\neural_network\\_multilayer_perceptron.py:500: ConvergenceWarning: lbfgs failed to converge (status=1):\n",
            "STOP: TOTAL NO. of ITERATIONS REACHED LIMIT.\n",
            "\n",
            "Increase the number of iterations (max_iter) or scale the data as shown in:\n",
            "    https://scikit-learn.org/stable/modules/preprocessing.html\n",
            "  self.n_iter_ = _check_optimize_result(\"lbfgs\", opt_res, self.max_iter)\n",
            "C:\\Users\\USER\\anaconda3\\lib\\site-packages\\sklearn\\neural_network\\_multilayer_perceptron.py:500: ConvergenceWarning: lbfgs failed to converge (status=1):\n",
            "STOP: TOTAL NO. of ITERATIONS REACHED LIMIT.\n",
            "\n",
            "Increase the number of iterations (max_iter) or scale the data as shown in:\n",
            "    https://scikit-learn.org/stable/modules/preprocessing.html\n",
            "  self.n_iter_ = _check_optimize_result(\"lbfgs\", opt_res, self.max_iter)\n",
            "C:\\Users\\USER\\anaconda3\\lib\\site-packages\\sklearn\\neural_network\\_multilayer_perceptron.py:500: ConvergenceWarning: lbfgs failed to converge (status=1):\n",
            "STOP: TOTAL NO. of ITERATIONS REACHED LIMIT.\n",
            "\n",
            "Increase the number of iterations (max_iter) or scale the data as shown in:\n",
            "    https://scikit-learn.org/stable/modules/preprocessing.html\n",
            "  self.n_iter_ = _check_optimize_result(\"lbfgs\", opt_res, self.max_iter)\n",
            "C:\\Users\\USER\\anaconda3\\lib\\site-packages\\sklearn\\neural_network\\_multilayer_perceptron.py:500: ConvergenceWarning: lbfgs failed to converge (status=1):\n",
            "STOP: TOTAL NO. of ITERATIONS REACHED LIMIT.\n",
            "\n",
            "Increase the number of iterations (max_iter) or scale the data as shown in:\n",
            "    https://scikit-learn.org/stable/modules/preprocessing.html\n",
            "  self.n_iter_ = _check_optimize_result(\"lbfgs\", opt_res, self.max_iter)\n",
            "C:\\Users\\USER\\anaconda3\\lib\\site-packages\\sklearn\\neural_network\\_multilayer_perceptron.py:500: ConvergenceWarning: lbfgs failed to converge (status=1):\n",
            "STOP: TOTAL NO. of ITERATIONS REACHED LIMIT.\n",
            "\n",
            "Increase the number of iterations (max_iter) or scale the data as shown in:\n",
            "    https://scikit-learn.org/stable/modules/preprocessing.html\n",
            "  self.n_iter_ = _check_optimize_result(\"lbfgs\", opt_res, self.max_iter)\n",
            "C:\\Users\\USER\\anaconda3\\lib\\site-packages\\sklearn\\neural_network\\_multilayer_perceptron.py:500: ConvergenceWarning: lbfgs failed to converge (status=1):\n",
            "STOP: TOTAL NO. of ITERATIONS REACHED LIMIT.\n",
            "\n",
            "Increase the number of iterations (max_iter) or scale the data as shown in:\n",
            "    https://scikit-learn.org/stable/modules/preprocessing.html\n",
            "  self.n_iter_ = _check_optimize_result(\"lbfgs\", opt_res, self.max_iter)\n",
            "C:\\Users\\USER\\anaconda3\\lib\\site-packages\\sklearn\\neural_network\\_multilayer_perceptron.py:500: ConvergenceWarning: lbfgs failed to converge (status=1):\n",
            "STOP: TOTAL NO. of ITERATIONS REACHED LIMIT.\n",
            "\n",
            "Increase the number of iterations (max_iter) or scale the data as shown in:\n",
            "    https://scikit-learn.org/stable/modules/preprocessing.html\n",
            "  self.n_iter_ = _check_optimize_result(\"lbfgs\", opt_res, self.max_iter)\n",
            "C:\\Users\\USER\\anaconda3\\lib\\site-packages\\sklearn\\neural_network\\_multilayer_perceptron.py:500: ConvergenceWarning: lbfgs failed to converge (status=1):\n",
            "STOP: TOTAL NO. of ITERATIONS REACHED LIMIT.\n",
            "\n",
            "Increase the number of iterations (max_iter) or scale the data as shown in:\n",
            "    https://scikit-learn.org/stable/modules/preprocessing.html\n",
            "  self.n_iter_ = _check_optimize_result(\"lbfgs\", opt_res, self.max_iter)\n",
            "C:\\Users\\USER\\anaconda3\\lib\\site-packages\\sklearn\\neural_network\\_multilayer_perceptron.py:500: ConvergenceWarning: lbfgs failed to converge (status=1):\n",
            "STOP: TOTAL NO. of ITERATIONS REACHED LIMIT.\n",
            "\n",
            "Increase the number of iterations (max_iter) or scale the data as shown in:\n",
            "    https://scikit-learn.org/stable/modules/preprocessing.html\n",
            "  self.n_iter_ = _check_optimize_result(\"lbfgs\", opt_res, self.max_iter)\n",
            "C:\\Users\\USER\\anaconda3\\lib\\site-packages\\sklearn\\neural_network\\_multilayer_perceptron.py:500: ConvergenceWarning: lbfgs failed to converge (status=1):\n",
            "STOP: TOTAL NO. of ITERATIONS REACHED LIMIT.\n",
            "\n",
            "Increase the number of iterations (max_iter) or scale the data as shown in:\n",
            "    https://scikit-learn.org/stable/modules/preprocessing.html\n",
            "  self.n_iter_ = _check_optimize_result(\"lbfgs\", opt_res, self.max_iter)\n",
            "C:\\Users\\USER\\anaconda3\\lib\\site-packages\\sklearn\\neural_network\\_multilayer_perceptron.py:500: ConvergenceWarning: lbfgs failed to converge (status=1):\n",
            "STOP: TOTAL NO. of ITERATIONS REACHED LIMIT.\n",
            "\n",
            "Increase the number of iterations (max_iter) or scale the data as shown in:\n",
            "    https://scikit-learn.org/stable/modules/preprocessing.html\n",
            "  self.n_iter_ = _check_optimize_result(\"lbfgs\", opt_res, self.max_iter)\n",
            "C:\\Users\\USER\\anaconda3\\lib\\site-packages\\sklearn\\neural_network\\_multilayer_perceptron.py:500: ConvergenceWarning: lbfgs failed to converge (status=1):\n",
            "STOP: TOTAL NO. of ITERATIONS REACHED LIMIT.\n",
            "\n",
            "Increase the number of iterations (max_iter) or scale the data as shown in:\n",
            "    https://scikit-learn.org/stable/modules/preprocessing.html\n",
            "  self.n_iter_ = _check_optimize_result(\"lbfgs\", opt_res, self.max_iter)\n",
            "C:\\Users\\USER\\anaconda3\\lib\\site-packages\\sklearn\\neural_network\\_multilayer_perceptron.py:500: ConvergenceWarning: lbfgs failed to converge (status=1):\n",
            "STOP: TOTAL NO. of ITERATIONS REACHED LIMIT.\n",
            "\n",
            "Increase the number of iterations (max_iter) or scale the data as shown in:\n",
            "    https://scikit-learn.org/stable/modules/preprocessing.html\n",
            "  self.n_iter_ = _check_optimize_result(\"lbfgs\", opt_res, self.max_iter)\n",
            "C:\\Users\\USER\\anaconda3\\lib\\site-packages\\sklearn\\neural_network\\_multilayer_perceptron.py:500: ConvergenceWarning: lbfgs failed to converge (status=1):\n",
            "STOP: TOTAL NO. of ITERATIONS REACHED LIMIT.\n",
            "\n",
            "Increase the number of iterations (max_iter) or scale the data as shown in:\n",
            "    https://scikit-learn.org/stable/modules/preprocessing.html\n",
            "  self.n_iter_ = _check_optimize_result(\"lbfgs\", opt_res, self.max_iter)\n",
            "C:\\Users\\USER\\anaconda3\\lib\\site-packages\\sklearn\\neural_network\\_multilayer_perceptron.py:500: ConvergenceWarning: lbfgs failed to converge (status=1):\n",
            "STOP: TOTAL NO. of ITERATIONS REACHED LIMIT.\n",
            "\n",
            "Increase the number of iterations (max_iter) or scale the data as shown in:\n",
            "    https://scikit-learn.org/stable/modules/preprocessing.html\n",
            "  self.n_iter_ = _check_optimize_result(\"lbfgs\", opt_res, self.max_iter)\n",
            "C:\\Users\\USER\\anaconda3\\lib\\site-packages\\sklearn\\neural_network\\_multilayer_perceptron.py:500: ConvergenceWarning: lbfgs failed to converge (status=1):\n",
            "STOP: TOTAL NO. of ITERATIONS REACHED LIMIT.\n",
            "\n",
            "Increase the number of iterations (max_iter) or scale the data as shown in:\n",
            "    https://scikit-learn.org/stable/modules/preprocessing.html\n",
            "  self.n_iter_ = _check_optimize_result(\"lbfgs\", opt_res, self.max_iter)\n",
            "C:\\Users\\USER\\anaconda3\\lib\\site-packages\\sklearn\\neural_network\\_multilayer_perceptron.py:500: ConvergenceWarning: lbfgs failed to converge (status=1):\n",
            "STOP: TOTAL NO. of ITERATIONS REACHED LIMIT.\n",
            "\n",
            "Increase the number of iterations (max_iter) or scale the data as shown in:\n",
            "    https://scikit-learn.org/stable/modules/preprocessing.html\n",
            "  self.n_iter_ = _check_optimize_result(\"lbfgs\", opt_res, self.max_iter)\n",
            "C:\\Users\\USER\\anaconda3\\lib\\site-packages\\sklearn\\neural_network\\_multilayer_perceptron.py:500: ConvergenceWarning: lbfgs failed to converge (status=1):\n",
            "STOP: TOTAL NO. of ITERATIONS REACHED LIMIT.\n",
            "\n",
            "Increase the number of iterations (max_iter) or scale the data as shown in:\n",
            "    https://scikit-learn.org/stable/modules/preprocessing.html\n",
            "  self.n_iter_ = _check_optimize_result(\"lbfgs\", opt_res, self.max_iter)\n",
            "C:\\Users\\USER\\anaconda3\\lib\\site-packages\\sklearn\\neural_network\\_multilayer_perceptron.py:500: ConvergenceWarning: lbfgs failed to converge (status=1):\n",
            "STOP: TOTAL NO. of ITERATIONS REACHED LIMIT.\n",
            "\n",
            "Increase the number of iterations (max_iter) or scale the data as shown in:\n",
            "    https://scikit-learn.org/stable/modules/preprocessing.html\n",
            "  self.n_iter_ = _check_optimize_result(\"lbfgs\", opt_res, self.max_iter)\n",
            "C:\\Users\\USER\\anaconda3\\lib\\site-packages\\sklearn\\neural_network\\_multilayer_perceptron.py:500: ConvergenceWarning: lbfgs failed to converge (status=1):\n",
            "STOP: TOTAL NO. of ITERATIONS REACHED LIMIT.\n",
            "\n",
            "Increase the number of iterations (max_iter) or scale the data as shown in:\n",
            "    https://scikit-learn.org/stable/modules/preprocessing.html\n",
            "  self.n_iter_ = _check_optimize_result(\"lbfgs\", opt_res, self.max_iter)\n"
          ]
        },
        {
          "name": "stderr",
          "output_type": "stream",
          "text": [
            "C:\\Users\\USER\\anaconda3\\lib\\site-packages\\sklearn\\neural_network\\_multilayer_perceptron.py:500: ConvergenceWarning: lbfgs failed to converge (status=1):\n",
            "STOP: TOTAL NO. of ITERATIONS REACHED LIMIT.\n",
            "\n",
            "Increase the number of iterations (max_iter) or scale the data as shown in:\n",
            "    https://scikit-learn.org/stable/modules/preprocessing.html\n",
            "  self.n_iter_ = _check_optimize_result(\"lbfgs\", opt_res, self.max_iter)\n",
            "C:\\Users\\USER\\anaconda3\\lib\\site-packages\\sklearn\\neural_network\\_multilayer_perceptron.py:500: ConvergenceWarning: lbfgs failed to converge (status=1):\n",
            "STOP: TOTAL NO. of ITERATIONS REACHED LIMIT.\n",
            "\n",
            "Increase the number of iterations (max_iter) or scale the data as shown in:\n",
            "    https://scikit-learn.org/stable/modules/preprocessing.html\n",
            "  self.n_iter_ = _check_optimize_result(\"lbfgs\", opt_res, self.max_iter)\n",
            "C:\\Users\\USER\\anaconda3\\lib\\site-packages\\sklearn\\neural_network\\_multilayer_perceptron.py:500: ConvergenceWarning: lbfgs failed to converge (status=1):\n",
            "STOP: TOTAL NO. of ITERATIONS REACHED LIMIT.\n",
            "\n",
            "Increase the number of iterations (max_iter) or scale the data as shown in:\n",
            "    https://scikit-learn.org/stable/modules/preprocessing.html\n",
            "  self.n_iter_ = _check_optimize_result(\"lbfgs\", opt_res, self.max_iter)\n",
            "C:\\Users\\USER\\anaconda3\\lib\\site-packages\\sklearn\\neural_network\\_multilayer_perceptron.py:500: ConvergenceWarning: lbfgs failed to converge (status=1):\n",
            "STOP: TOTAL NO. of ITERATIONS REACHED LIMIT.\n",
            "\n",
            "Increase the number of iterations (max_iter) or scale the data as shown in:\n",
            "    https://scikit-learn.org/stable/modules/preprocessing.html\n",
            "  self.n_iter_ = _check_optimize_result(\"lbfgs\", opt_res, self.max_iter)\n",
            "C:\\Users\\USER\\anaconda3\\lib\\site-packages\\sklearn\\neural_network\\_multilayer_perceptron.py:500: ConvergenceWarning: lbfgs failed to converge (status=1):\n",
            "STOP: TOTAL NO. of ITERATIONS REACHED LIMIT.\n",
            "\n",
            "Increase the number of iterations (max_iter) or scale the data as shown in:\n",
            "    https://scikit-learn.org/stable/modules/preprocessing.html\n",
            "  self.n_iter_ = _check_optimize_result(\"lbfgs\", opt_res, self.max_iter)\n",
            "C:\\Users\\USER\\anaconda3\\lib\\site-packages\\sklearn\\neural_network\\_multilayer_perceptron.py:500: ConvergenceWarning: lbfgs failed to converge (status=1):\n",
            "STOP: TOTAL NO. of ITERATIONS REACHED LIMIT.\n",
            "\n",
            "Increase the number of iterations (max_iter) or scale the data as shown in:\n",
            "    https://scikit-learn.org/stable/modules/preprocessing.html\n",
            "  self.n_iter_ = _check_optimize_result(\"lbfgs\", opt_res, self.max_iter)\n",
            "C:\\Users\\USER\\anaconda3\\lib\\site-packages\\sklearn\\neural_network\\_multilayer_perceptron.py:500: ConvergenceWarning: lbfgs failed to converge (status=1):\n",
            "STOP: TOTAL NO. of ITERATIONS REACHED LIMIT.\n",
            "\n",
            "Increase the number of iterations (max_iter) or scale the data as shown in:\n",
            "    https://scikit-learn.org/stable/modules/preprocessing.html\n",
            "  self.n_iter_ = _check_optimize_result(\"lbfgs\", opt_res, self.max_iter)\n",
            "C:\\Users\\USER\\anaconda3\\lib\\site-packages\\sklearn\\neural_network\\_multilayer_perceptron.py:500: ConvergenceWarning: lbfgs failed to converge (status=1):\n",
            "STOP: TOTAL NO. of ITERATIONS REACHED LIMIT.\n",
            "\n",
            "Increase the number of iterations (max_iter) or scale the data as shown in:\n",
            "    https://scikit-learn.org/stable/modules/preprocessing.html\n",
            "  self.n_iter_ = _check_optimize_result(\"lbfgs\", opt_res, self.max_iter)\n",
            "C:\\Users\\USER\\anaconda3\\lib\\site-packages\\sklearn\\neural_network\\_multilayer_perceptron.py:500: ConvergenceWarning: lbfgs failed to converge (status=1):\n",
            "STOP: TOTAL NO. of ITERATIONS REACHED LIMIT.\n",
            "\n",
            "Increase the number of iterations (max_iter) or scale the data as shown in:\n",
            "    https://scikit-learn.org/stable/modules/preprocessing.html\n",
            "  self.n_iter_ = _check_optimize_result(\"lbfgs\", opt_res, self.max_iter)\n",
            "C:\\Users\\USER\\anaconda3\\lib\\site-packages\\sklearn\\neural_network\\_multilayer_perceptron.py:500: ConvergenceWarning: lbfgs failed to converge (status=1):\n",
            "STOP: TOTAL NO. of ITERATIONS REACHED LIMIT.\n",
            "\n",
            "Increase the number of iterations (max_iter) or scale the data as shown in:\n",
            "    https://scikit-learn.org/stable/modules/preprocessing.html\n",
            "  self.n_iter_ = _check_optimize_result(\"lbfgs\", opt_res, self.max_iter)\n",
            "C:\\Users\\USER\\anaconda3\\lib\\site-packages\\sklearn\\neural_network\\_multilayer_perceptron.py:500: ConvergenceWarning: lbfgs failed to converge (status=1):\n",
            "STOP: TOTAL NO. of ITERATIONS REACHED LIMIT.\n",
            "\n",
            "Increase the number of iterations (max_iter) or scale the data as shown in:\n",
            "    https://scikit-learn.org/stable/modules/preprocessing.html\n",
            "  self.n_iter_ = _check_optimize_result(\"lbfgs\", opt_res, self.max_iter)\n",
            "C:\\Users\\USER\\anaconda3\\lib\\site-packages\\sklearn\\neural_network\\_multilayer_perceptron.py:500: ConvergenceWarning: lbfgs failed to converge (status=1):\n",
            "STOP: TOTAL NO. of ITERATIONS REACHED LIMIT.\n",
            "\n",
            "Increase the number of iterations (max_iter) or scale the data as shown in:\n",
            "    https://scikit-learn.org/stable/modules/preprocessing.html\n",
            "  self.n_iter_ = _check_optimize_result(\"lbfgs\", opt_res, self.max_iter)\n",
            "C:\\Users\\USER\\anaconda3\\lib\\site-packages\\sklearn\\neural_network\\_multilayer_perceptron.py:500: ConvergenceWarning: lbfgs failed to converge (status=1):\n",
            "STOP: TOTAL NO. of ITERATIONS REACHED LIMIT.\n",
            "\n",
            "Increase the number of iterations (max_iter) or scale the data as shown in:\n",
            "    https://scikit-learn.org/stable/modules/preprocessing.html\n",
            "  self.n_iter_ = _check_optimize_result(\"lbfgs\", opt_res, self.max_iter)\n",
            "C:\\Users\\USER\\anaconda3\\lib\\site-packages\\sklearn\\neural_network\\_multilayer_perceptron.py:500: ConvergenceWarning: lbfgs failed to converge (status=1):\n",
            "STOP: TOTAL NO. of ITERATIONS REACHED LIMIT.\n",
            "\n",
            "Increase the number of iterations (max_iter) or scale the data as shown in:\n",
            "    https://scikit-learn.org/stable/modules/preprocessing.html\n",
            "  self.n_iter_ = _check_optimize_result(\"lbfgs\", opt_res, self.max_iter)\n",
            "C:\\Users\\USER\\anaconda3\\lib\\site-packages\\sklearn\\neural_network\\_multilayer_perceptron.py:500: ConvergenceWarning: lbfgs failed to converge (status=1):\n",
            "STOP: TOTAL NO. of ITERATIONS REACHED LIMIT.\n",
            "\n",
            "Increase the number of iterations (max_iter) or scale the data as shown in:\n",
            "    https://scikit-learn.org/stable/modules/preprocessing.html\n",
            "  self.n_iter_ = _check_optimize_result(\"lbfgs\", opt_res, self.max_iter)\n",
            "C:\\Users\\USER\\anaconda3\\lib\\site-packages\\sklearn\\neural_network\\_multilayer_perceptron.py:500: ConvergenceWarning: lbfgs failed to converge (status=1):\n",
            "STOP: TOTAL NO. of ITERATIONS REACHED LIMIT.\n",
            "\n",
            "Increase the number of iterations (max_iter) or scale the data as shown in:\n",
            "    https://scikit-learn.org/stable/modules/preprocessing.html\n",
            "  self.n_iter_ = _check_optimize_result(\"lbfgs\", opt_res, self.max_iter)\n",
            "C:\\Users\\USER\\anaconda3\\lib\\site-packages\\sklearn\\neural_network\\_multilayer_perceptron.py:500: ConvergenceWarning: lbfgs failed to converge (status=1):\n",
            "STOP: TOTAL NO. of ITERATIONS REACHED LIMIT.\n",
            "\n",
            "Increase the number of iterations (max_iter) or scale the data as shown in:\n",
            "    https://scikit-learn.org/stable/modules/preprocessing.html\n",
            "  self.n_iter_ = _check_optimize_result(\"lbfgs\", opt_res, self.max_iter)\n",
            "C:\\Users\\USER\\anaconda3\\lib\\site-packages\\sklearn\\neural_network\\_multilayer_perceptron.py:500: ConvergenceWarning: lbfgs failed to converge (status=1):\n",
            "STOP: TOTAL NO. of ITERATIONS REACHED LIMIT.\n",
            "\n",
            "Increase the number of iterations (max_iter) or scale the data as shown in:\n",
            "    https://scikit-learn.org/stable/modules/preprocessing.html\n",
            "  self.n_iter_ = _check_optimize_result(\"lbfgs\", opt_res, self.max_iter)\n",
            "C:\\Users\\USER\\anaconda3\\lib\\site-packages\\sklearn\\neural_network\\_multilayer_perceptron.py:500: ConvergenceWarning: lbfgs failed to converge (status=1):\n",
            "STOP: TOTAL NO. of ITERATIONS REACHED LIMIT.\n",
            "\n",
            "Increase the number of iterations (max_iter) or scale the data as shown in:\n",
            "    https://scikit-learn.org/stable/modules/preprocessing.html\n",
            "  self.n_iter_ = _check_optimize_result(\"lbfgs\", opt_res, self.max_iter)\n",
            "C:\\Users\\USER\\anaconda3\\lib\\site-packages\\sklearn\\neural_network\\_multilayer_perceptron.py:500: ConvergenceWarning: lbfgs failed to converge (status=1):\n",
            "STOP: TOTAL NO. of ITERATIONS REACHED LIMIT.\n",
            "\n",
            "Increase the number of iterations (max_iter) or scale the data as shown in:\n",
            "    https://scikit-learn.org/stable/modules/preprocessing.html\n",
            "  self.n_iter_ = _check_optimize_result(\"lbfgs\", opt_res, self.max_iter)\n"
          ]
        },
        {
          "name": "stderr",
          "output_type": "stream",
          "text": [
            "C:\\Users\\USER\\anaconda3\\lib\\site-packages\\sklearn\\neural_network\\_multilayer_perceptron.py:500: ConvergenceWarning: lbfgs failed to converge (status=1):\n",
            "STOP: TOTAL NO. of ITERATIONS REACHED LIMIT.\n",
            "\n",
            "Increase the number of iterations (max_iter) or scale the data as shown in:\n",
            "    https://scikit-learn.org/stable/modules/preprocessing.html\n",
            "  self.n_iter_ = _check_optimize_result(\"lbfgs\", opt_res, self.max_iter)\n",
            "C:\\Users\\USER\\anaconda3\\lib\\site-packages\\sklearn\\neural_network\\_multilayer_perceptron.py:500: ConvergenceWarning: lbfgs failed to converge (status=1):\n",
            "STOP: TOTAL NO. of ITERATIONS REACHED LIMIT.\n",
            "\n",
            "Increase the number of iterations (max_iter) or scale the data as shown in:\n",
            "    https://scikit-learn.org/stable/modules/preprocessing.html\n",
            "  self.n_iter_ = _check_optimize_result(\"lbfgs\", opt_res, self.max_iter)\n",
            "C:\\Users\\USER\\anaconda3\\lib\\site-packages\\sklearn\\neural_network\\_multilayer_perceptron.py:500: ConvergenceWarning: lbfgs failed to converge (status=1):\n",
            "STOP: TOTAL NO. of ITERATIONS REACHED LIMIT.\n",
            "\n",
            "Increase the number of iterations (max_iter) or scale the data as shown in:\n",
            "    https://scikit-learn.org/stable/modules/preprocessing.html\n",
            "  self.n_iter_ = _check_optimize_result(\"lbfgs\", opt_res, self.max_iter)\n",
            "C:\\Users\\USER\\anaconda3\\lib\\site-packages\\sklearn\\neural_network\\_multilayer_perceptron.py:500: ConvergenceWarning: lbfgs failed to converge (status=1):\n",
            "STOP: TOTAL NO. of ITERATIONS REACHED LIMIT.\n",
            "\n",
            "Increase the number of iterations (max_iter) or scale the data as shown in:\n",
            "    https://scikit-learn.org/stable/modules/preprocessing.html\n",
            "  self.n_iter_ = _check_optimize_result(\"lbfgs\", opt_res, self.max_iter)\n",
            "C:\\Users\\USER\\anaconda3\\lib\\site-packages\\sklearn\\neural_network\\_multilayer_perceptron.py:500: ConvergenceWarning: lbfgs failed to converge (status=1):\n",
            "STOP: TOTAL NO. of ITERATIONS REACHED LIMIT.\n",
            "\n",
            "Increase the number of iterations (max_iter) or scale the data as shown in:\n",
            "    https://scikit-learn.org/stable/modules/preprocessing.html\n",
            "  self.n_iter_ = _check_optimize_result(\"lbfgs\", opt_res, self.max_iter)\n",
            "C:\\Users\\USER\\anaconda3\\lib\\site-packages\\sklearn\\neural_network\\_multilayer_perceptron.py:500: ConvergenceWarning: lbfgs failed to converge (status=1):\n",
            "STOP: TOTAL NO. of ITERATIONS REACHED LIMIT.\n",
            "\n",
            "Increase the number of iterations (max_iter) or scale the data as shown in:\n",
            "    https://scikit-learn.org/stable/modules/preprocessing.html\n",
            "  self.n_iter_ = _check_optimize_result(\"lbfgs\", opt_res, self.max_iter)\n",
            "C:\\Users\\USER\\anaconda3\\lib\\site-packages\\sklearn\\neural_network\\_multilayer_perceptron.py:500: ConvergenceWarning: lbfgs failed to converge (status=1):\n",
            "STOP: TOTAL NO. of ITERATIONS REACHED LIMIT.\n",
            "\n",
            "Increase the number of iterations (max_iter) or scale the data as shown in:\n",
            "    https://scikit-learn.org/stable/modules/preprocessing.html\n",
            "  self.n_iter_ = _check_optimize_result(\"lbfgs\", opt_res, self.max_iter)\n",
            "C:\\Users\\USER\\anaconda3\\lib\\site-packages\\sklearn\\neural_network\\_multilayer_perceptron.py:500: ConvergenceWarning: lbfgs failed to converge (status=1):\n",
            "STOP: TOTAL NO. of ITERATIONS REACHED LIMIT.\n",
            "\n",
            "Increase the number of iterations (max_iter) or scale the data as shown in:\n",
            "    https://scikit-learn.org/stable/modules/preprocessing.html\n",
            "  self.n_iter_ = _check_optimize_result(\"lbfgs\", opt_res, self.max_iter)\n",
            "C:\\Users\\USER\\anaconda3\\lib\\site-packages\\sklearn\\neural_network\\_multilayer_perceptron.py:500: ConvergenceWarning: lbfgs failed to converge (status=1):\n",
            "STOP: TOTAL NO. of ITERATIONS REACHED LIMIT.\n",
            "\n",
            "Increase the number of iterations (max_iter) or scale the data as shown in:\n",
            "    https://scikit-learn.org/stable/modules/preprocessing.html\n",
            "  self.n_iter_ = _check_optimize_result(\"lbfgs\", opt_res, self.max_iter)\n",
            "C:\\Users\\USER\\anaconda3\\lib\\site-packages\\sklearn\\neural_network\\_multilayer_perceptron.py:500: ConvergenceWarning: lbfgs failed to converge (status=1):\n",
            "STOP: TOTAL NO. of ITERATIONS REACHED LIMIT.\n",
            "\n",
            "Increase the number of iterations (max_iter) or scale the data as shown in:\n",
            "    https://scikit-learn.org/stable/modules/preprocessing.html\n",
            "  self.n_iter_ = _check_optimize_result(\"lbfgs\", opt_res, self.max_iter)\n",
            "C:\\Users\\USER\\anaconda3\\lib\\site-packages\\sklearn\\neural_network\\_multilayer_perceptron.py:500: ConvergenceWarning: lbfgs failed to converge (status=1):\n",
            "STOP: TOTAL NO. of ITERATIONS REACHED LIMIT.\n",
            "\n",
            "Increase the number of iterations (max_iter) or scale the data as shown in:\n",
            "    https://scikit-learn.org/stable/modules/preprocessing.html\n",
            "  self.n_iter_ = _check_optimize_result(\"lbfgs\", opt_res, self.max_iter)\n",
            "C:\\Users\\USER\\anaconda3\\lib\\site-packages\\sklearn\\neural_network\\_multilayer_perceptron.py:500: ConvergenceWarning: lbfgs failed to converge (status=1):\n",
            "STOP: TOTAL NO. of ITERATIONS REACHED LIMIT.\n",
            "\n",
            "Increase the number of iterations (max_iter) or scale the data as shown in:\n",
            "    https://scikit-learn.org/stable/modules/preprocessing.html\n",
            "  self.n_iter_ = _check_optimize_result(\"lbfgs\", opt_res, self.max_iter)\n",
            "C:\\Users\\USER\\anaconda3\\lib\\site-packages\\sklearn\\neural_network\\_multilayer_perceptron.py:500: ConvergenceWarning: lbfgs failed to converge (status=1):\n",
            "STOP: TOTAL NO. of ITERATIONS REACHED LIMIT.\n",
            "\n",
            "Increase the number of iterations (max_iter) or scale the data as shown in:\n",
            "    https://scikit-learn.org/stable/modules/preprocessing.html\n",
            "  self.n_iter_ = _check_optimize_result(\"lbfgs\", opt_res, self.max_iter)\n",
            "C:\\Users\\USER\\anaconda3\\lib\\site-packages\\sklearn\\neural_network\\_multilayer_perceptron.py:500: ConvergenceWarning: lbfgs failed to converge (status=1):\n",
            "STOP: TOTAL NO. of ITERATIONS REACHED LIMIT.\n",
            "\n",
            "Increase the number of iterations (max_iter) or scale the data as shown in:\n",
            "    https://scikit-learn.org/stable/modules/preprocessing.html\n",
            "  self.n_iter_ = _check_optimize_result(\"lbfgs\", opt_res, self.max_iter)\n",
            "C:\\Users\\USER\\anaconda3\\lib\\site-packages\\sklearn\\neural_network\\_multilayer_perceptron.py:500: ConvergenceWarning: lbfgs failed to converge (status=1):\n",
            "STOP: TOTAL NO. of ITERATIONS REACHED LIMIT.\n",
            "\n",
            "Increase the number of iterations (max_iter) or scale the data as shown in:\n",
            "    https://scikit-learn.org/stable/modules/preprocessing.html\n",
            "  self.n_iter_ = _check_optimize_result(\"lbfgs\", opt_res, self.max_iter)\n",
            "C:\\Users\\USER\\anaconda3\\lib\\site-packages\\sklearn\\neural_network\\_multilayer_perceptron.py:500: ConvergenceWarning: lbfgs failed to converge (status=1):\n",
            "STOP: TOTAL NO. of ITERATIONS REACHED LIMIT.\n",
            "\n",
            "Increase the number of iterations (max_iter) or scale the data as shown in:\n",
            "    https://scikit-learn.org/stable/modules/preprocessing.html\n",
            "  self.n_iter_ = _check_optimize_result(\"lbfgs\", opt_res, self.max_iter)\n",
            "C:\\Users\\USER\\anaconda3\\lib\\site-packages\\sklearn\\neural_network\\_multilayer_perceptron.py:500: ConvergenceWarning: lbfgs failed to converge (status=1):\n",
            "STOP: TOTAL NO. of ITERATIONS REACHED LIMIT.\n",
            "\n",
            "Increase the number of iterations (max_iter) or scale the data as shown in:\n",
            "    https://scikit-learn.org/stable/modules/preprocessing.html\n",
            "  self.n_iter_ = _check_optimize_result(\"lbfgs\", opt_res, self.max_iter)\n",
            "C:\\Users\\USER\\anaconda3\\lib\\site-packages\\sklearn\\neural_network\\_multilayer_perceptron.py:500: ConvergenceWarning: lbfgs failed to converge (status=1):\n",
            "STOP: TOTAL NO. of ITERATIONS REACHED LIMIT.\n",
            "\n",
            "Increase the number of iterations (max_iter) or scale the data as shown in:\n",
            "    https://scikit-learn.org/stable/modules/preprocessing.html\n",
            "  self.n_iter_ = _check_optimize_result(\"lbfgs\", opt_res, self.max_iter)\n",
            "C:\\Users\\USER\\anaconda3\\lib\\site-packages\\sklearn\\neural_network\\_multilayer_perceptron.py:500: ConvergenceWarning: lbfgs failed to converge (status=1):\n",
            "STOP: TOTAL NO. of ITERATIONS REACHED LIMIT.\n",
            "\n",
            "Increase the number of iterations (max_iter) or scale the data as shown in:\n",
            "    https://scikit-learn.org/stable/modules/preprocessing.html\n",
            "  self.n_iter_ = _check_optimize_result(\"lbfgs\", opt_res, self.max_iter)\n",
            "C:\\Users\\USER\\anaconda3\\lib\\site-packages\\sklearn\\neural_network\\_multilayer_perceptron.py:500: ConvergenceWarning: lbfgs failed to converge (status=1):\n",
            "STOP: TOTAL NO. of ITERATIONS REACHED LIMIT.\n",
            "\n",
            "Increase the number of iterations (max_iter) or scale the data as shown in:\n",
            "    https://scikit-learn.org/stable/modules/preprocessing.html\n",
            "  self.n_iter_ = _check_optimize_result(\"lbfgs\", opt_res, self.max_iter)\n"
          ]
        },
        {
          "name": "stderr",
          "output_type": "stream",
          "text": [
            "C:\\Users\\USER\\anaconda3\\lib\\site-packages\\sklearn\\neural_network\\_multilayer_perceptron.py:500: ConvergenceWarning: lbfgs failed to converge (status=1):\n",
            "STOP: TOTAL NO. of ITERATIONS REACHED LIMIT.\n",
            "\n",
            "Increase the number of iterations (max_iter) or scale the data as shown in:\n",
            "    https://scikit-learn.org/stable/modules/preprocessing.html\n",
            "  self.n_iter_ = _check_optimize_result(\"lbfgs\", opt_res, self.max_iter)\n",
            "C:\\Users\\USER\\anaconda3\\lib\\site-packages\\sklearn\\neural_network\\_multilayer_perceptron.py:500: ConvergenceWarning: lbfgs failed to converge (status=1):\n",
            "STOP: TOTAL NO. of ITERATIONS REACHED LIMIT.\n",
            "\n",
            "Increase the number of iterations (max_iter) or scale the data as shown in:\n",
            "    https://scikit-learn.org/stable/modules/preprocessing.html\n",
            "  self.n_iter_ = _check_optimize_result(\"lbfgs\", opt_res, self.max_iter)\n",
            "C:\\Users\\USER\\anaconda3\\lib\\site-packages\\sklearn\\neural_network\\_multilayer_perceptron.py:500: ConvergenceWarning: lbfgs failed to converge (status=1):\n",
            "STOP: TOTAL NO. of ITERATIONS REACHED LIMIT.\n",
            "\n",
            "Increase the number of iterations (max_iter) or scale the data as shown in:\n",
            "    https://scikit-learn.org/stable/modules/preprocessing.html\n",
            "  self.n_iter_ = _check_optimize_result(\"lbfgs\", opt_res, self.max_iter)\n",
            "C:\\Users\\USER\\anaconda3\\lib\\site-packages\\sklearn\\neural_network\\_multilayer_perceptron.py:500: ConvergenceWarning: lbfgs failed to converge (status=1):\n",
            "STOP: TOTAL NO. of ITERATIONS REACHED LIMIT.\n",
            "\n",
            "Increase the number of iterations (max_iter) or scale the data as shown in:\n",
            "    https://scikit-learn.org/stable/modules/preprocessing.html\n",
            "  self.n_iter_ = _check_optimize_result(\"lbfgs\", opt_res, self.max_iter)\n",
            "C:\\Users\\USER\\anaconda3\\lib\\site-packages\\sklearn\\neural_network\\_multilayer_perceptron.py:500: ConvergenceWarning: lbfgs failed to converge (status=1):\n",
            "STOP: TOTAL NO. of ITERATIONS REACHED LIMIT.\n",
            "\n",
            "Increase the number of iterations (max_iter) or scale the data as shown in:\n",
            "    https://scikit-learn.org/stable/modules/preprocessing.html\n",
            "  self.n_iter_ = _check_optimize_result(\"lbfgs\", opt_res, self.max_iter)\n",
            "C:\\Users\\USER\\anaconda3\\lib\\site-packages\\sklearn\\neural_network\\_multilayer_perceptron.py:500: ConvergenceWarning: lbfgs failed to converge (status=1):\n",
            "STOP: TOTAL NO. of ITERATIONS REACHED LIMIT.\n",
            "\n",
            "Increase the number of iterations (max_iter) or scale the data as shown in:\n",
            "    https://scikit-learn.org/stable/modules/preprocessing.html\n",
            "  self.n_iter_ = _check_optimize_result(\"lbfgs\", opt_res, self.max_iter)\n",
            "C:\\Users\\USER\\anaconda3\\lib\\site-packages\\sklearn\\neural_network\\_multilayer_perceptron.py:500: ConvergenceWarning: lbfgs failed to converge (status=1):\n",
            "STOP: TOTAL NO. of ITERATIONS REACHED LIMIT.\n",
            "\n",
            "Increase the number of iterations (max_iter) or scale the data as shown in:\n",
            "    https://scikit-learn.org/stable/modules/preprocessing.html\n",
            "  self.n_iter_ = _check_optimize_result(\"lbfgs\", opt_res, self.max_iter)\n",
            "C:\\Users\\USER\\anaconda3\\lib\\site-packages\\sklearn\\neural_network\\_multilayer_perceptron.py:500: ConvergenceWarning: lbfgs failed to converge (status=1):\n",
            "STOP: TOTAL NO. of ITERATIONS REACHED LIMIT.\n",
            "\n",
            "Increase the number of iterations (max_iter) or scale the data as shown in:\n",
            "    https://scikit-learn.org/stable/modules/preprocessing.html\n",
            "  self.n_iter_ = _check_optimize_result(\"lbfgs\", opt_res, self.max_iter)\n",
            "C:\\Users\\USER\\anaconda3\\lib\\site-packages\\sklearn\\neural_network\\_multilayer_perceptron.py:500: ConvergenceWarning: lbfgs failed to converge (status=1):\n",
            "STOP: TOTAL NO. of ITERATIONS REACHED LIMIT.\n",
            "\n",
            "Increase the number of iterations (max_iter) or scale the data as shown in:\n",
            "    https://scikit-learn.org/stable/modules/preprocessing.html\n",
            "  self.n_iter_ = _check_optimize_result(\"lbfgs\", opt_res, self.max_iter)\n",
            "C:\\Users\\USER\\anaconda3\\lib\\site-packages\\sklearn\\neural_network\\_multilayer_perceptron.py:500: ConvergenceWarning: lbfgs failed to converge (status=1):\n",
            "STOP: TOTAL NO. of ITERATIONS REACHED LIMIT.\n",
            "\n",
            "Increase the number of iterations (max_iter) or scale the data as shown in:\n",
            "    https://scikit-learn.org/stable/modules/preprocessing.html\n",
            "  self.n_iter_ = _check_optimize_result(\"lbfgs\", opt_res, self.max_iter)\n",
            "C:\\Users\\USER\\anaconda3\\lib\\site-packages\\sklearn\\neural_network\\_multilayer_perceptron.py:500: ConvergenceWarning: lbfgs failed to converge (status=1):\n",
            "STOP: TOTAL NO. of ITERATIONS REACHED LIMIT.\n",
            "\n",
            "Increase the number of iterations (max_iter) or scale the data as shown in:\n",
            "    https://scikit-learn.org/stable/modules/preprocessing.html\n",
            "  self.n_iter_ = _check_optimize_result(\"lbfgs\", opt_res, self.max_iter)\n",
            "C:\\Users\\USER\\anaconda3\\lib\\site-packages\\sklearn\\neural_network\\_multilayer_perceptron.py:500: ConvergenceWarning: lbfgs failed to converge (status=1):\n",
            "STOP: TOTAL NO. of ITERATIONS REACHED LIMIT.\n",
            "\n",
            "Increase the number of iterations (max_iter) or scale the data as shown in:\n",
            "    https://scikit-learn.org/stable/modules/preprocessing.html\n",
            "  self.n_iter_ = _check_optimize_result(\"lbfgs\", opt_res, self.max_iter)\n",
            "C:\\Users\\USER\\anaconda3\\lib\\site-packages\\sklearn\\neural_network\\_multilayer_perceptron.py:500: ConvergenceWarning: lbfgs failed to converge (status=1):\n",
            "STOP: TOTAL NO. of ITERATIONS REACHED LIMIT.\n",
            "\n",
            "Increase the number of iterations (max_iter) or scale the data as shown in:\n",
            "    https://scikit-learn.org/stable/modules/preprocessing.html\n",
            "  self.n_iter_ = _check_optimize_result(\"lbfgs\", opt_res, self.max_iter)\n",
            "C:\\Users\\USER\\anaconda3\\lib\\site-packages\\sklearn\\neural_network\\_multilayer_perceptron.py:500: ConvergenceWarning: lbfgs failed to converge (status=1):\n",
            "STOP: TOTAL NO. of ITERATIONS REACHED LIMIT.\n",
            "\n",
            "Increase the number of iterations (max_iter) or scale the data as shown in:\n",
            "    https://scikit-learn.org/stable/modules/preprocessing.html\n",
            "  self.n_iter_ = _check_optimize_result(\"lbfgs\", opt_res, self.max_iter)\n",
            "C:\\Users\\USER\\anaconda3\\lib\\site-packages\\sklearn\\neural_network\\_multilayer_perceptron.py:500: ConvergenceWarning: lbfgs failed to converge (status=1):\n",
            "STOP: TOTAL NO. of ITERATIONS REACHED LIMIT.\n",
            "\n",
            "Increase the number of iterations (max_iter) or scale the data as shown in:\n",
            "    https://scikit-learn.org/stable/modules/preprocessing.html\n",
            "  self.n_iter_ = _check_optimize_result(\"lbfgs\", opt_res, self.max_iter)\n",
            "C:\\Users\\USER\\anaconda3\\lib\\site-packages\\sklearn\\neural_network\\_multilayer_perceptron.py:500: ConvergenceWarning: lbfgs failed to converge (status=1):\n",
            "STOP: TOTAL NO. of ITERATIONS REACHED LIMIT.\n",
            "\n",
            "Increase the number of iterations (max_iter) or scale the data as shown in:\n",
            "    https://scikit-learn.org/stable/modules/preprocessing.html\n",
            "  self.n_iter_ = _check_optimize_result(\"lbfgs\", opt_res, self.max_iter)\n",
            "C:\\Users\\USER\\anaconda3\\lib\\site-packages\\sklearn\\neural_network\\_multilayer_perceptron.py:500: ConvergenceWarning: lbfgs failed to converge (status=1):\n",
            "STOP: TOTAL NO. of ITERATIONS REACHED LIMIT.\n",
            "\n",
            "Increase the number of iterations (max_iter) or scale the data as shown in:\n",
            "    https://scikit-learn.org/stable/modules/preprocessing.html\n",
            "  self.n_iter_ = _check_optimize_result(\"lbfgs\", opt_res, self.max_iter)\n",
            "C:\\Users\\USER\\anaconda3\\lib\\site-packages\\sklearn\\neural_network\\_multilayer_perceptron.py:500: ConvergenceWarning: lbfgs failed to converge (status=1):\n",
            "STOP: TOTAL NO. of ITERATIONS REACHED LIMIT.\n",
            "\n",
            "Increase the number of iterations (max_iter) or scale the data as shown in:\n",
            "    https://scikit-learn.org/stable/modules/preprocessing.html\n",
            "  self.n_iter_ = _check_optimize_result(\"lbfgs\", opt_res, self.max_iter)\n",
            "C:\\Users\\USER\\anaconda3\\lib\\site-packages\\sklearn\\neural_network\\_multilayer_perceptron.py:500: ConvergenceWarning: lbfgs failed to converge (status=1):\n",
            "STOP: TOTAL NO. of ITERATIONS REACHED LIMIT.\n",
            "\n",
            "Increase the number of iterations (max_iter) or scale the data as shown in:\n",
            "    https://scikit-learn.org/stable/modules/preprocessing.html\n",
            "  self.n_iter_ = _check_optimize_result(\"lbfgs\", opt_res, self.max_iter)\n",
            "C:\\Users\\USER\\anaconda3\\lib\\site-packages\\sklearn\\neural_network\\_multilayer_perceptron.py:500: ConvergenceWarning: lbfgs failed to converge (status=1):\n",
            "STOP: TOTAL NO. of ITERATIONS REACHED LIMIT.\n",
            "\n",
            "Increase the number of iterations (max_iter) or scale the data as shown in:\n",
            "    https://scikit-learn.org/stable/modules/preprocessing.html\n",
            "  self.n_iter_ = _check_optimize_result(\"lbfgs\", opt_res, self.max_iter)\n"
          ]
        },
        {
          "name": "stderr",
          "output_type": "stream",
          "text": [
            "C:\\Users\\USER\\anaconda3\\lib\\site-packages\\sklearn\\neural_network\\_multilayer_perceptron.py:500: ConvergenceWarning: lbfgs failed to converge (status=1):\n",
            "STOP: TOTAL NO. of ITERATIONS REACHED LIMIT.\n",
            "\n",
            "Increase the number of iterations (max_iter) or scale the data as shown in:\n",
            "    https://scikit-learn.org/stable/modules/preprocessing.html\n",
            "  self.n_iter_ = _check_optimize_result(\"lbfgs\", opt_res, self.max_iter)\n",
            "C:\\Users\\USER\\anaconda3\\lib\\site-packages\\sklearn\\neural_network\\_multilayer_perceptron.py:500: ConvergenceWarning: lbfgs failed to converge (status=1):\n",
            "STOP: TOTAL NO. of ITERATIONS REACHED LIMIT.\n",
            "\n",
            "Increase the number of iterations (max_iter) or scale the data as shown in:\n",
            "    https://scikit-learn.org/stable/modules/preprocessing.html\n",
            "  self.n_iter_ = _check_optimize_result(\"lbfgs\", opt_res, self.max_iter)\n",
            "C:\\Users\\USER\\anaconda3\\lib\\site-packages\\sklearn\\neural_network\\_multilayer_perceptron.py:500: ConvergenceWarning: lbfgs failed to converge (status=1):\n",
            "STOP: TOTAL NO. of ITERATIONS REACHED LIMIT.\n",
            "\n",
            "Increase the number of iterations (max_iter) or scale the data as shown in:\n",
            "    https://scikit-learn.org/stable/modules/preprocessing.html\n",
            "  self.n_iter_ = _check_optimize_result(\"lbfgs\", opt_res, self.max_iter)\n",
            "C:\\Users\\USER\\anaconda3\\lib\\site-packages\\sklearn\\neural_network\\_multilayer_perceptron.py:500: ConvergenceWarning: lbfgs failed to converge (status=1):\n",
            "STOP: TOTAL NO. of ITERATIONS REACHED LIMIT.\n",
            "\n",
            "Increase the number of iterations (max_iter) or scale the data as shown in:\n",
            "    https://scikit-learn.org/stable/modules/preprocessing.html\n",
            "  self.n_iter_ = _check_optimize_result(\"lbfgs\", opt_res, self.max_iter)\n",
            "C:\\Users\\USER\\anaconda3\\lib\\site-packages\\sklearn\\neural_network\\_multilayer_perceptron.py:500: ConvergenceWarning: lbfgs failed to converge (status=1):\n",
            "STOP: TOTAL NO. of ITERATIONS REACHED LIMIT.\n",
            "\n",
            "Increase the number of iterations (max_iter) or scale the data as shown in:\n",
            "    https://scikit-learn.org/stable/modules/preprocessing.html\n",
            "  self.n_iter_ = _check_optimize_result(\"lbfgs\", opt_res, self.max_iter)\n",
            "C:\\Users\\USER\\anaconda3\\lib\\site-packages\\sklearn\\neural_network\\_multilayer_perceptron.py:500: ConvergenceWarning: lbfgs failed to converge (status=1):\n",
            "STOP: TOTAL NO. of ITERATIONS REACHED LIMIT.\n",
            "\n",
            "Increase the number of iterations (max_iter) or scale the data as shown in:\n",
            "    https://scikit-learn.org/stable/modules/preprocessing.html\n",
            "  self.n_iter_ = _check_optimize_result(\"lbfgs\", opt_res, self.max_iter)\n",
            "C:\\Users\\USER\\anaconda3\\lib\\site-packages\\sklearn\\neural_network\\_multilayer_perceptron.py:500: ConvergenceWarning: lbfgs failed to converge (status=1):\n",
            "STOP: TOTAL NO. of ITERATIONS REACHED LIMIT.\n",
            "\n",
            "Increase the number of iterations (max_iter) or scale the data as shown in:\n",
            "    https://scikit-learn.org/stable/modules/preprocessing.html\n",
            "  self.n_iter_ = _check_optimize_result(\"lbfgs\", opt_res, self.max_iter)\n",
            "C:\\Users\\USER\\anaconda3\\lib\\site-packages\\sklearn\\neural_network\\_multilayer_perceptron.py:500: ConvergenceWarning: lbfgs failed to converge (status=1):\n",
            "STOP: TOTAL NO. of ITERATIONS REACHED LIMIT.\n",
            "\n",
            "Increase the number of iterations (max_iter) or scale the data as shown in:\n",
            "    https://scikit-learn.org/stable/modules/preprocessing.html\n",
            "  self.n_iter_ = _check_optimize_result(\"lbfgs\", opt_res, self.max_iter)\n",
            "C:\\Users\\USER\\anaconda3\\lib\\site-packages\\sklearn\\neural_network\\_multilayer_perceptron.py:500: ConvergenceWarning: lbfgs failed to converge (status=1):\n",
            "STOP: TOTAL NO. of ITERATIONS REACHED LIMIT.\n",
            "\n",
            "Increase the number of iterations (max_iter) or scale the data as shown in:\n",
            "    https://scikit-learn.org/stable/modules/preprocessing.html\n",
            "  self.n_iter_ = _check_optimize_result(\"lbfgs\", opt_res, self.max_iter)\n",
            "C:\\Users\\USER\\anaconda3\\lib\\site-packages\\sklearn\\neural_network\\_multilayer_perceptron.py:500: ConvergenceWarning: lbfgs failed to converge (status=1):\n",
            "STOP: TOTAL NO. of ITERATIONS REACHED LIMIT.\n",
            "\n",
            "Increase the number of iterations (max_iter) or scale the data as shown in:\n",
            "    https://scikit-learn.org/stable/modules/preprocessing.html\n",
            "  self.n_iter_ = _check_optimize_result(\"lbfgs\", opt_res, self.max_iter)\n",
            "C:\\Users\\USER\\anaconda3\\lib\\site-packages\\sklearn\\neural_network\\_multilayer_perceptron.py:500: ConvergenceWarning: lbfgs failed to converge (status=1):\n",
            "STOP: TOTAL NO. of ITERATIONS REACHED LIMIT.\n",
            "\n",
            "Increase the number of iterations (max_iter) or scale the data as shown in:\n",
            "    https://scikit-learn.org/stable/modules/preprocessing.html\n",
            "  self.n_iter_ = _check_optimize_result(\"lbfgs\", opt_res, self.max_iter)\n"
          ]
        },
        {
          "data": {
            "text/plain": [
              "GridSearchCV(cv=5, estimator=MLPRegressor(random_state=1, solver='lbfgs'),\n",
              "             param_grid={'hidden_layer_sizes': [(1,), (2,), (3,), (4,), (5,),\n",
              "                                                (6,), (7,), (8,), (9,), (10,),\n",
              "                                                (11,), (12,), (13,), (14,),\n",
              "                                                (15,), (16,), (17,), (18,),\n",
              "                                                (19,), (20,)]})"
            ]
          },
          "execution_count": 19,
          "metadata": {},
          "output_type": "execute_result"
        }
      ],
      "source": [
        "from sklearn.model_selection import GridSearchCV\n",
        "\n",
        "param = {'hidden_layer_sizes':[(1,),(2,),(3,),(4,),(5,),(6,),(7,),(8,),(9,),(10,),(11,),(12,),(13,),(14,),(15,),(16,),(17,),(18,),(19,),(20,)]}\n",
        "mlp = MLPRegressor(solver=\"lbfgs\",random_state=numero_di_matricola)\n",
        "#COMPLETE\n",
        "GS = GridSearchCV(mlp,param,cv=5)\n",
        "\n",
        "GS.fit(Xtrain_scaled,Ytrain)"
      ]
    },
    {
      "cell_type": "markdown",
      "metadata": {
        "id": "quwBIRS-JgTc"
      },
      "source": [
        "Now let's check what is the best parameter, and compare the best NNs with the linear model (learned on train and validation) on test data."
      ]
    },
    {
      "cell_type": "code",
      "execution_count": null,
      "metadata": {
        "id": "ySw6aZ7NJgTc",
        "outputId": "c0ec3a1e-b36f-44b7-9cdb-75539ce76eb5"
      },
      "outputs": [
        {
          "name": "stdout",
          "output_type": "stream",
          "text": [
            "{'hidden_layer_sizes': (19,)}\n",
            "0.19298222268665965\n"
          ]
        }
      ],
      "source": [
        "#let's print the best model according to grid search\n",
        "#COMPLETE\n",
        "print(GS.best_params_)\n",
        "\n",
        "#let's print the error 1-R^2 for the best model\n",
        "#COMPLETE\n",
        "print(1-GS.best_score_)"
      ]
    },
    {
      "cell_type": "markdown",
      "metadata": {
        "id": "7ssLfWXCJgTc"
      },
      "source": [
        "Let compare the error of the best NN on train and validation and on test data."
      ]
    },
    {
      "cell_type": "code",
      "execution_count": null,
      "metadata": {
        "id": "3gxBYYUwJgTd",
        "outputId": "14766d65-29fc-4289-fc98-01904f68bdca"
      },
      "outputs": [
        {
          "name": "stdout",
          "output_type": "stream",
          "text": [
            "Training error:  0.0700557603625045\n",
            "Test error:  0.19954939210569833\n",
            "Validation error:  0.29968801028044023\n"
          ]
        },
        {
          "name": "stderr",
          "output_type": "stream",
          "text": [
            "C:\\Users\\USER\\anaconda3\\lib\\site-packages\\sklearn\\neural_network\\_multilayer_perceptron.py:500: ConvergenceWarning: lbfgs failed to converge (status=1):\n",
            "STOP: TOTAL NO. of ITERATIONS REACHED LIMIT.\n",
            "\n",
            "Increase the number of iterations (max_iter) or scale the data as shown in:\n",
            "    https://scikit-learn.org/stable/modules/preprocessing.html\n",
            "  self.n_iter_ = _check_optimize_result(\"lbfgs\", opt_res, self.max_iter)\n"
          ]
        }
      ],
      "source": [
        "#COMPLETE\n",
        "best_NN = MLPRegressor(**GS.best_params_,solver=\"lbfgs\",random_state=numero_di_matricola)\n",
        "best_NN.fit(Xtrain_scaled,Ytrain)\n",
        "\n",
        "print(\"Training error: \", 1-best_NN.score(Xtrain_scaled,Ytrain))\n",
        "print(\"Test error: \", 1-best_NN.score(Xtest_scaled,Ytest))\n",
        "print(\"Validation error: \", 1-best_NN.score(Xval_scaled,Yval))"
      ]
    },
    {
      "cell_type": "markdown",
      "metadata": {
        "id": "lVm_LxpdJgTd"
      },
      "source": [
        "Now let's learn the linear model on train and validation, and get error (1-R^2) on train and validation and on test data."
      ]
    },
    {
      "cell_type": "code",
      "execution_count": null,
      "metadata": {
        "id": "xD4eRLXTJgTd"
      },
      "outputs": [],
      "source": [
        "#COMPLETE"
      ]
    },
    {
      "cell_type": "markdown",
      "metadata": {
        "id": "tpLDhRTiJgTd"
      },
      "source": [
        "Note: MLPRegressor has several other parameters!"
      ]
    }
  ],
  "metadata": {
    "kernelspec": {
      "display_name": "Python 3",
      "language": "python",
      "name": "python3"
    },
    "language_info": {
      "codemirror_mode": {
        "name": "ipython",
        "version": 3
      },
      "file_extension": ".py",
      "mimetype": "text/x-python",
      "name": "python",
      "nbconvert_exporter": "python",
      "pygments_lexer": "ipython3",
      "version": "3.8.8"
    },
    "colab": {
      "provenance": []
    }
  },
  "nbformat": 4,
  "nbformat_minor": 0
}